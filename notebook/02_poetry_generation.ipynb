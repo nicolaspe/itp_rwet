{
 "cells": [
  {
   "cell_type": "markdown",
   "metadata": {},
   "source": [
    "# Assignment: Implementation of poetry generators\n",
    "\n",
    "By [Nicolás Escarpentier](http://nicolaspe.com), recoded from [Allison Parrish's](http://www.decontextualize.com/) [Poetry generator examples](https://github.com/aparrish/rwet/blob/master/some-poetry-generators.ipynb)"
   ]
  },
  {
   "cell_type": "markdown",
   "metadata": {},
   "source": [
    "## Python imports and initializations\n",
    "\n",
    "Just some Python packages that need importing for everything to work properly."
   ]
  },
  {
   "cell_type": "code",
   "execution_count": 1,
   "metadata": {
    "collapsed": true
   },
   "outputs": [],
   "source": [
    "import random\n",
    "import textwrap"
   ]
  },
  {
   "cell_type": "markdown",
   "metadata": {},
   "source": [
    "## Dadaist terror\n",
    "\n",
    "Dadaist alteration to [Sometimes I forget](https://inintocable.wordpress.com/2017/09/13/sometimes-i-forget/), a small text by me."
   ]
  },
  {
   "cell_type": "code",
   "execution_count": 2,
   "metadata": {},
   "outputs": [
    {
     "name": "stdout",
     "output_type": "stream",
     "text": [
      "fine I'm don't my world only But Even fault on you soul face\n",
      "artificial forget with I'll to farce wondering The false\n",
      "Makes anything happier I'm you've This hope is that your\n",
      "nothing with been easier Cause entirely words not through\n",
      "forget A concentrate-made appear And That I'm uncertainty\n",
      "happiness is fine sure was forget farce What-ifs makes admit\n",
      "Still, I on this is me a that I not your My I And before all\n",
      "This hold the And life to same it's it of I joy This I else\n",
      "my of I false soothes sometimes with want I caffeine-free\n",
      "glimmer It's it Ignoring A killed for all chose Sometimes\n",
      "the ignored which coincidental get if all\n"
     ]
    }
   ],
   "source": [
    "text = \"\"\"\n",
    "Sometimes I forget\n",
    "This was all my fault\n",
    "It's not entirely coincidental\n",
    "Ignoring that makes me happier\n",
    "I'm sure it's not the same for you\n",
    "I ignored your words\n",
    "And your world \n",
    "And that you've been through this before\n",
    "\n",
    "Still, I forget\n",
    "Makes wondering easier\n",
    "What-ifs appear only on the face of uncertainty\n",
    "That which I killed\n",
    "But with nothing else to hold on\n",
    "A false happiness soothes my soul\n",
    "\n",
    "A farce\n",
    "This is all a farce\n",
    "The false life I chose\n",
    "Even if I don't want to admit it\n",
    "This caffeine-free concentrate-made glimmer of joy is all I'll get\n",
    "And I'm fine with it\n",
    "I'm fine with anything\n",
    "My hope is artificial\n",
    "Cause sometimes I forget\"\"\"\n",
    "\n",
    "words = text.split()\n",
    "random.shuffle(words)\n",
    "\n",
    "print(textwrap.fill(\" \".join(words), 60))"
   ]
  },
  {
   "cell_type": "markdown",
   "metadata": {},
   "source": [
    "## Gorge of insanity\n",
    "\n",
    "Adaptation of [Nick Montfort](http://nickm.com/)'s [Taroko Gorge](http://nickm.com/taroko_gorge/)."
   ]
  },
  {
   "cell_type": "code",
   "execution_count": 3,
   "metadata": {
    "collapsed": true
   },
   "outputs": [],
   "source": [
    "person = ['my', 'her', 'their', 'his', 'your', 'my', '...', 'excessive']\n",
    "possession = ['feelings', 'memories', 'faces', 'cigars', 'coins', 'fears', 'crisis', 'smiles', 'arguments']\n",
    "adjectives = ['awake', 'naked', 'insane', 'hidden', 'suppressed', 'intense', 'passionate', 'free', 'noble']\n",
    "\n",
    "imperative = ['excuse', 'bury', 'incinerate', 'stamp', 'swim through', 'read', 'listen to', 'enter', 'face']\n",
    "room = ['bed', 'table', 'chair', 'desk', 'floor', 'vase', 'pen', 'radio', 'VCR', 'pillow', 'clock', 'book', 'me']\n",
    "\n",
    "interlude = ['rejection', 'acceptance', 'breaking down', 'enlightenment', 'destruction', 'wounded']\n",
    "reflection = ['stay with', 'look at', 'sleep next to', 'hold', 'steal', 'break', \"don't forget\"]\n",
    "coda = ['leave', 'stay', 'dream', 'just die']"
   ]
  },
  {
   "cell_type": "code",
   "execution_count": 4,
   "metadata": {},
   "outputs": [],
   "source": [
    "def init():\n",
    "    words = random.choice(person)\n",
    "    words += \" \" + random.choice(possession) + \" are \" + random.choice(adjectives)\n",
    "    return words.capitalize()"
   ]
  },
  {
   "cell_type": "code",
   "execution_count": 5,
   "metadata": {
    "collapsed": true
   },
   "outputs": [],
   "source": [
    "def verse():\n",
    "    prompt = random.choice(imperative)\n",
    "    who = random.choice(person)\n",
    "    if who == '...':\n",
    "        prompt += who\n",
    "    else:\n",
    "        prompt += \" \" + who +  \" \" + random.choice(possession + room)\n",
    "    return \"   \" + prompt"
   ]
  },
  {
   "cell_type": "code",
   "execution_count": 6,
   "metadata": {
    "collapsed": true
   },
   "outputs": [],
   "source": [
    "def bridge():\n",
    "    words = random.choice(interlude)\n",
    "    if random.randrange(0, 100) < 30:\n",
    "        words += \" of the \" + random.choice(possession)\n",
    "    return \"      \" + words"
   ]
  },
  {
   "cell_type": "code",
   "execution_count": 7,
   "metadata": {
    "collapsed": true
   },
   "outputs": [],
   "source": [
    "def outro():\n",
    "    words = \"   \" + random.choice(reflection) + \" the \" + random.choice(room)+'\\n'\n",
    "    words += \"   \" + random.choice(coda)\n",
    "    return words"
   ]
  },
  {
   "cell_type": "code",
   "execution_count": 8,
   "metadata": {},
   "outputs": [
    {
     "name": "stdout",
     "output_type": "stream",
     "text": [
      "My coins are noble\n",
      "   listen to my vase\n",
      "      enlightenment\n",
      "   hold the pillow\n",
      "   dream\n",
      "\n",
      "... cigars are insane\n",
      "   swim through his bed\n",
      "      rejection\n",
      "   don't forget the table\n",
      "   just die\n",
      "\n",
      "Their memories are suppressed\n",
      "   bury your floor\n",
      "   read...\n",
      "      destruction\n",
      "   steal the floor\n",
      "   stay\n",
      "\n",
      "Their memories are passionate\n",
      "   face your floor\n",
      "   enter...\n",
      "      enlightenment\n",
      "   look at the VCR\n",
      "   just die\n",
      "\n",
      "His arguments are intense\n",
      "   listen to her desk\n",
      "      wounded\n",
      "   steal the VCR\n",
      "   leave\n",
      "\n",
      "Your memories are naked\n",
      "   stamp my radio\n",
      "   incinerate...\n",
      "      wounded of the feelings\n",
      "   sleep next to the table\n",
      "   dream\n",
      "\n",
      "My memories are passionate\n",
      "   bury their book\n",
      "      rejection\n",
      "   hold the table\n",
      "   dream\n",
      "\n"
     ]
    }
   ],
   "source": [
    "stanza_count = random.randrange(3,9)\n",
    "\n",
    "for repeat in range(stanza_count):\n",
    "    line_count = random.randrange(4, 6)\n",
    "    for i in range(line_count):\n",
    "        if i == 0:\n",
    "            print(init())\n",
    "        elif i == line_count - 2:\n",
    "            print(bridge())\n",
    "        elif i == line_count - 1:\n",
    "            print(outro())\n",
    "            print()\n",
    "        else:\n",
    "            print(verse())"
   ]
  }
 ],
 "metadata": {
  "kernelspec": {
   "display_name": "Python 3",
   "language": "python",
   "name": "python3"
  },
  "language_info": {
   "codemirror_mode": {
    "name": "ipython",
    "version": 3
   },
   "file_extension": ".py",
   "mimetype": "text/x-python",
   "name": "python",
   "nbconvert_exporter": "python",
   "pygments_lexer": "ipython3",
   "version": "3.6.3"
  }
 },
 "nbformat": 4,
 "nbformat_minor": 2
}
