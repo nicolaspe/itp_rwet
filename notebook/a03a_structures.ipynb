{
 "cells": [
  {
   "cell_type": "markdown",
   "metadata": {},
   "source": [
    "# Assignment 3: Poetry mashing\n",
    "\n",
    "by [Nicolás Escarpentier](http://nicolaspe.com)"
   ]
  },
  {
   "cell_type": "markdown",
   "metadata": {},
   "source": [
    "## Imports & function definitions\n",
    "Bellow are some libraries & functions I will use along the way \n",
    "\n",
    "- `leastUsed(words, appear_limit)` returns a list with the words with less than `appear_limit` appearances on the list\n",
    "- `removeAll(bye, words)` removes all appearances of `bye` in the `words` list\n",
    "- `findLength(words, length)` looks for a word of a specific `length`\n",
    "- `findStart(words, letter)` looks for a word starting with a specific `letter`"
   ]
  },
  {
   "cell_type": "code",
   "execution_count": 1,
   "metadata": {
    "collapsed": true
   },
   "outputs": [],
   "source": [
    "import random as rng"
   ]
  },
  {
   "cell_type": "code",
   "execution_count": 2,
   "metadata": {
    "collapsed": true
   },
   "outputs": [],
   "source": [
    "def leastUsed(words, appear_limit):\n",
    "    # create a dictionary that tracks the number of appearances of any word\n",
    "    counter = {}\n",
    "    for w in words:\n",
    "        # initialize the word in the dictionary\n",
    "        if w not in counter:\n",
    "            counter[w] = 0\n",
    "        ## add to the appearances\n",
    "        counter[w] += 1\n",
    "    # create a list with the \"rare\" words\n",
    "    rares = []\n",
    "    for w in counter:\n",
    "        if counter[w] < appear_limit and w not in rares:\n",
    "            rares.append(w)\n",
    "    # return the list\n",
    "    return rares\n"
   ]
  },
  {
   "cell_type": "code",
   "execution_count": 3,
   "metadata": {
    "collapsed": true
   },
   "outputs": [],
   "source": [
    "def removeAll(bye, words):\n",
    "    while(bye in words):\n",
    "        words.remove(bye)\n"
   ]
  },
  {
   "cell_type": "code",
   "execution_count": 20,
   "metadata": {
    "collapsed": true
   },
   "outputs": [],
   "source": [
    "def findLength(words, length):\n",
    "    i = 0\n",
    "    # first we separate all the words that are the desired length\n",
    "    possibles = [ w for w in words if len(w)==length ]\n",
    "    # if there's no such letter, we return an empty string\n",
    "    if len(possibles) == 0:\n",
    "        return \"\"\n",
    "    else: # else, we return a random one\n",
    "        return rng.choice(possibles)"
   ]
  },
  {
   "cell_type": "code",
   "execution_count": 21,
   "metadata": {
    "collapsed": true
   },
   "outputs": [],
   "source": [
    "def findStart(words, letter):\n",
    "    i = 0\n",
    "    # first we separate all the words that start with the desired letter\n",
    "    possibles = [ w for w in words if w[0].lower()==letter.lower() ]\n",
    "    # if there's no such letter, we return an empty string\n",
    "    if len(possibles) == 0:\n",
    "        return \"\"\n",
    "    else: # else, we return a random one\n",
    "        return rng.choice(possibles)"
   ]
  },
  {
   "cell_type": "markdown",
   "metadata": {},
   "source": [
    "## Text souces\n",
    "\n",
    "I will use Eileen Myles' poems *\"Peanut Butter\"* and *\"Each Defeat\"*, as well as Emmeline Pankhurst's speech *\"I Incite This Meeting to Rebellion\"* as sources for these poems. "
   ]
  },
  {
   "cell_type": "code",
   "execution_count": 6,
   "metadata": {
    "collapsed": true,
    "scrolled": true
   },
   "outputs": [],
   "source": [
    "poem_1 = [line.strip() for line in open('./sources/eileen_peanutbutter.txt', 'r')]\n",
    "poem_2 = [line.strip() for line in open('./sources/eileen_eachdefeat.txt', 'r')]"
   ]
  },
  {
   "cell_type": "code",
   "execution_count": 7,
   "metadata": {
    "scrolled": false
   },
   "outputs": [
    {
     "name": "stdout",
     "output_type": "stream",
     "text": [
      "286\n"
     ]
    }
   ],
   "source": [
    "text_src = open('./sources/emmeline_iincitethismeetingtorebellion.txt', 'r').read()\n",
    "text_words = text_src.replace('\\n',' ').replace('.',' ').replace(',',' ').replace('-',' ').replace('—',' ').replace('\"',' ').strip().split(' ')\n",
    "text_least = leastUsed(text_words, 4)\n",
    "#print( text_least )\n",
    "print( len(text_least) )"
   ]
  },
  {
   "cell_type": "code",
   "execution_count": 8,
   "metadata": {
    "scrolled": false
   },
   "outputs": [
    {
     "data": {
      "text/plain": [
       "True"
      ]
     },
     "execution_count": 8,
     "metadata": {},
     "output_type": "execute_result"
    }
   ],
   "source": [
    "\"rebellion\" in text_least"
   ]
  },
  {
   "cell_type": "code",
   "execution_count": 24,
   "metadata": {
    "scrolled": false
   },
   "outputs": [
    {
     "data": {
      "text/plain": [
       "['incalculable',\n",
       " 'initiated',\n",
       " 'into',\n",
       " 'important',\n",
       " 'implore',\n",
       " 'injury',\n",
       " 'idol',\n",
       " 'incite',\n",
       " 'incitement',\n",
       " 'if',\n",
       " 'incited']"
      ]
     },
     "execution_count": 24,
     "metadata": {},
     "output_type": "execute_result"
    }
   ],
   "source": [
    "[ w for w in text_least if w[0].lower() == 'i' ]"
   ]
  },
  {
   "cell_type": "markdown",
   "metadata": {},
   "source": [
    "### 1"
   ]
  },
  {
   "cell_type": "code",
   "execution_count": 22,
   "metadata": {},
   "outputs": [
    {
     "name": "stdout",
     "output_type": "stream",
     "text": [
      "I am always hungry\n",
      "  incitement importa\n",
      "    sort. Pleasure eye\n",
      "        \n",
      "        a woman with early\n",
      "            \n",
      "            a woman with other\n"
     ]
    }
   ],
   "source": [
    "# specify target line length\n",
    "line_length = len(poem_1[0])  # it's 18\n",
    "\n",
    "# create target list and add opening line\n",
    "creation = []\n",
    "creation.append(poem_1[0])\n",
    "print(creation[0])\n",
    "\n",
    "for i in range(6):\n",
    "    line = \"\"\n",
    "    \n",
    "    # alternate between a line of the poem and a made up line\n",
    "    if i%2 == 0: # made up line\n",
    "        # search for two words that begins with the same letter as the previous line\n",
    "        letter = creation[i][0] # position i is always one less than the one that's being created\n",
    "        w1 = findStart(text_least, letter)\n",
    "        w2 = findStart(text_least, letter)\n",
    "        line = w1 + \" \" + w2\n",
    "        # fill the line with the specific length\n",
    "        if len(line) == line_length:      # it's OK, do nothing\n",
    "            pass\n",
    "        elif len(line) > line_length:     # it's longer, cut it\n",
    "            line = line[:line_length]\n",
    "        elif len(line) == line_length -1: # if it's only one character short, add a '.', ',' or '-'\n",
    "            line += rng.choice(['.', ',', '-'])\n",
    "        else:                             # else, fill with the desired length\n",
    "            length = line_length - len(line + \" \")\n",
    "            w3 = findLength(text_least, length)\n",
    "            line += \" \" + w3\n",
    "    else:        # poem line\n",
    "        # get a new random poem line\n",
    "        line = rng.choice(poem_1)\n",
    "        # fix the line length\n",
    "        if len(line) == line_length:      # it's OK, do nothing\n",
    "            pass\n",
    "        elif len(line) > line_length:     # it's longer, cut it\n",
    "            line = line[:line_length]\n",
    "        elif len(line) == line_length -1: # if it's only one character short, add a '.', ',' or '-'\n",
    "            line += rng.choice(['.', ',', '-'])\n",
    "        else:                             # else, fill with the desired length\n",
    "            length = line_length - len(line + \" \")\n",
    "            w3 = findLength(text_least, length)\n",
    "            line += \" \" + w3\n",
    "    \n",
    "    # add indentation to the new line\n",
    "    line = \"  \" + line\n",
    "    for j in range(i):\n",
    "        line = \"  \" + line\n",
    "        \n",
    "    print(line)\n",
    "    # append the new line\n",
    "    creation.append(line)\n"
   ]
  },
  {
   "cell_type": "code",
   "execution_count": 27,
   "metadata": {
    "collapsed": true
   },
   "outputs": [],
   "source": [
    "filename = \"./creations/03_minimal_01.txt\"\n",
    "file = open(filename, 'w')\n",
    "file.writelines('\\n'.join(creation))\n",
    "file.close()"
   ]
  },
  {
   "cell_type": "markdown",
   "metadata": {},
   "source": [
    "### 2"
   ]
  },
  {
   "cell_type": "code",
   "execution_count": 32,
   "metadata": {},
   "outputs": [
    {
     "name": "stdout",
     "output_type": "stream",
     "text": [
      "I am always hungry\n",
      "    if into themselves\n",
      "        I would like order\n",
      "            important incalcul\n",
      "                me. It’s more Take\n",
      "                    men meetings being\n",
      "                        you come back turn\n",
      "                            You You recklessly\n",
      "                                the things I until\n",
      "                                    true turn services\n",
      "                                        and then a Women's\n"
     ]
    }
   ],
   "source": [
    "# specify target line length\n",
    "line_length = len(poem_1[0])  # it's 18\n",
    "\n",
    "# create target list and add opening line\n",
    "creation = []\n",
    "creation.append(poem_1[0])\n",
    "print(creation[0])\n",
    "\n",
    "for i in range(10):\n",
    "    line = \"\"\n",
    "    \n",
    "    # alternate between a line of the poem and a made up line\n",
    "    if i%2 == 0: # made up line\n",
    "        # search for two words that begins with the same letter as the previous line\n",
    "        letter = creation[i].strip()[0] # position i is always one less than the one that's being created\n",
    "        w1 = findStart(text_least, letter)\n",
    "        w2 = findStart(text_least, letter)\n",
    "#         print( \"-- l \"+letter +\" -w1 \"+w1 +\" -w2 \"+w2 )\n",
    "        line = w1 + \" \" + w2\n",
    "        # fill the line with the specific length\n",
    "        if len(line) == line_length:      # it's OK, do nothing\n",
    "            pass\n",
    "        elif len(line) > line_length:     # it's longer, cut it\n",
    "            line = line[:line_length]\n",
    "        elif len(line) == line_length -1: # if it's only one character short, add a '.', ',' or '-'\n",
    "            line += rng.choice(['.', ',', '-'])\n",
    "        else:                             # else, fill with the desired length\n",
    "            length = line_length - len(line + \" \")\n",
    "            w3 = findLength(text_least, length)\n",
    "            line += \" \" + w3\n",
    "    else:        # poem line\n",
    "        # get a new random poem line\n",
    "        line = rng.choice(poem_1)\n",
    "        # fix the line length\n",
    "        if len(line) == line_length:      # it's OK, do nothing\n",
    "            pass\n",
    "        elif len(line) > line_length:     # it's longer, cut it\n",
    "            line = line[:line_length]\n",
    "        elif len(line) == line_length -1: # if it's only one character short, add a '.', ',' or '-'\n",
    "            line += rng.choice(['.', ',', '-'])\n",
    "        else:                             # else, fill with the desired length\n",
    "            length = line_length - len(line + \" \")\n",
    "            w3 = findLength(text_least, length)\n",
    "            line += \" \" + w3\n",
    "    \n",
    "    # add indentation to the new line\n",
    "    line = \"    \" + line\n",
    "    for j in range(i):\n",
    "        line = \"    \" + line\n",
    "        \n",
    "    print(line)\n",
    "    # append the new line\n",
    "    creation.append(line)"
   ]
  },
  {
   "cell_type": "code",
   "execution_count": 33,
   "metadata": {
    "collapsed": true
   },
   "outputs": [],
   "source": [
    "filename = \"./creations/03_minimal_02.txt\"\n",
    "file = open(filename, 'w')\n",
    "file.writelines('\\n'.join(creation))\n",
    "file.close()"
   ]
  },
  {
   "cell_type": "markdown",
   "metadata": {},
   "source": [
    "### 1.3 Saving the leftovers and expanding to the second part "
   ]
  },
  {
   "cell_type": "code",
   "execution_count": 47,
   "metadata": {},
   "outputs": [
    {
     "name": "stdout",
     "output_type": "stream",
     "text": [
      "I am always hungry\n",
      "    into incited think\n",
      "        exalted because on\n",
      "            enemy express best\n",
      "                all your new think\n",
      "                    attack ago keeping\n",
      "                        I have always mobs\n",
      "                            initiated if great\n",
      "                                and then a welfare\n",
      "                                    all ago resistance\n",
      "                                        a tiny step should\n"
     ]
    }
   ],
   "source": [
    "# specify target line length\n",
    "line_length = len(poem_1[0])  # it's 18\n",
    "\n",
    "# create target list and add opening line\n",
    "creation = []\n",
    "creation.append(poem_1[0])\n",
    "print(creation[0])\n",
    "\n",
    "lovs = ''\n",
    "for i in range(10):\n",
    "    line = ''\n",
    "    \n",
    "    # if there are any leftovers, add them ad the beggining and reset that variable\n",
    "    if len(lovs) > 0:\n",
    "        line += lovs + ' '\n",
    "        lovs = ''\n",
    "    \n",
    "    # alternate between a line of the poem and a made up line\n",
    "    if i%2 == 0: # made up line\n",
    "        # search for two words that begins with the same letter as the previous line\n",
    "        letter = creation[i].strip()[0] # position i is always one less than the one that's being created\n",
    "        w1 = findStart(text_least, letter)\n",
    "        w2 = findStart(text_least, letter)\n",
    "        line += w1 + \" \" + w2\n",
    "        # fill the line with the specific length\n",
    "        if len(line) == line_length:      # it's OK, do nothing\n",
    "            pass\n",
    "        elif len(line) > line_length:     # it's longer, cut it, but save the \"leftovers\"\n",
    "            line = line[:line_length]\n",
    "            lovs = line[line_length:]\n",
    "        elif len(line) == line_length -1: # if it's only one character short, add a '.', ',' or '-'\n",
    "            line += rng.choice(['.', ',', '-'])\n",
    "        else:                             # else, fill with the desired length\n",
    "            length = line_length - len(line + \" \")\n",
    "            w3 = findLength(text_least, length)\n",
    "            line += \" \" + w3\n",
    "    else:        # poem line\n",
    "        # get a new random poem line\n",
    "        line += rng.choice(poem_1)\n",
    "        # fix the line length\n",
    "        if len(line) == line_length:      # it's OK, do nothing\n",
    "            pass\n",
    "        elif len(line) > line_length:     # it's longer, cut it, but save the \"leftovers\"\n",
    "            line = line[:line_length]\n",
    "            lovs = line[line_length:]\n",
    "        elif len(line) == line_length -1: # if it's only one character short, add a '.', ',' or '-'\n",
    "            line += rng.choice(['.', ',', '-'])\n",
    "        else:                             # else, fill with the desired length\n",
    "            length = line_length - len(line + \" \")\n",
    "            w3 = findLength(text_least, length)\n",
    "            line += \" \" + w3\n",
    "    \n",
    "    # add indentation to the new line\n",
    "    line = \"    \" + line\n",
    "    for j in range(i):\n",
    "        line = \"    \" + line\n",
    "        \n",
    "    print(line)\n",
    "    # append the new line\n",
    "    creation.append(line)"
   ]
  },
  {
   "cell_type": "code",
   "execution_count": null,
   "metadata": {
    "collapsed": true
   },
   "outputs": [],
   "source": []
  }
 ],
 "metadata": {
  "kernelspec": {
   "display_name": "Python 3",
   "language": "python",
   "name": "python3"
  },
  "language_info": {
   "codemirror_mode": {
    "name": "ipython",
    "version": 3
   },
   "file_extension": ".py",
   "mimetype": "text/x-python",
   "name": "python",
   "nbconvert_exporter": "python",
   "pygments_lexer": "ipython3",
   "version": "3.6.4"
  }
 },
 "nbformat": 4,
 "nbformat_minor": 2
}
