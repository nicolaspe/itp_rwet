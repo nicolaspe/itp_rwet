{
 "cells": [
  {
   "cell_type": "markdown",
   "metadata": {},
   "source": [
    "# Assignment 4: Draconian anxiety poems\n",
    "\n",
    "I want to create a poetic form that derives from using a Lindenberg system as a generator of the stanzas, while tackling my anxieties and fears"
   ]
  },
  {
   "cell_type": "code",
   "execution_count": 1,
   "metadata": {
    "scrolled": true
   },
   "outputs": [
    {
     "name": "stdout",
     "output_type": "stream",
     "text": [
      "/Users/nicolasescarpentier/github/itp_rwet/notebook/bin/jupyter\r\n"
     ]
    }
   ],
   "source": [
    "# check whether I'm in the virtual environment or not\n",
    "!which jupyter"
   ]
  },
  {
   "cell_type": "code",
   "execution_count": 2,
   "metadata": {},
   "outputs": [],
   "source": [
    "import tracery\n",
    "from tracery.modifiers import base_english\n",
    "import random as rng"
   ]
  },
  {
   "cell_type": "markdown",
   "metadata": {},
   "source": [
    "## [L-system](https://en.wikipedia.org/wiki/L-system)\n",
    "I will start by creating the L system that will generate the poem"
   ]
  },
  {
   "cell_type": "markdown",
   "metadata": {},
   "source": [
    "### Simple algae poem\n",
    "The first shape will be an algae, the simplest L-system.\n",
    "\n",
    "- variables: `A`, `B`\n",
    "- rules: \n",
    "  - `A` > `AB`, \n",
    "  - `B` > `A`"
   ]
  },
  {
   "cell_type": "code",
   "execution_count": 3,
   "metadata": {
    "scrolled": true
   },
   "outputs": [
    {
     "name": "stdout",
     "output_type": "stream",
     "text": [
      "['A', 'AB', 'ABA', 'ABAAB']\n"
     ]
    }
   ],
   "source": [
    "# l-system rules\n",
    "alg_rules = {\n",
    "    \"A\": \"AB\",\n",
    "    \"B\": \"A\"\n",
    "}\n",
    "# variables\n",
    "alg_gens = 3     # how many times it will loop\n",
    "alg_sys = []     # saving the l-system generations\n",
    "alg_sys.append(\"A\") # set the starting point\n",
    "\n",
    "# l-system generation looping\n",
    "for i in range(alg_gens):\n",
    "    # create a new generation\n",
    "    alg_sys.append(\"\")\n",
    "    # create the new system according to the rules\n",
    "    for c in alg_sys[i]:\n",
    "        alg_sys[i+1] += alg_rules[c]\n",
    "\n",
    "# see the result\n",
    "print(alg_sys)"
   ]
  },
  {
   "cell_type": "markdown",
   "metadata": {},
   "source": [
    "### Dragon system\n",
    "I'm going to try to do a poetic interpretation of a [dragon curve](https://en.wikipedia.org/wiki/Dragon_curve) l-system. \n",
    "\n",
    "- variables: `X`, `Y`\n",
    "- constants: `F`, `+`, `-`\n",
    "- start: `FX`\n",
    "- rules:\n",
    "  - `X` > `X+YF+`\n",
    "  - `Y` > `-FX-Y`"
   ]
  },
  {
   "cell_type": "code",
   "execution_count": 4,
   "metadata": {},
   "outputs": [
    {
     "name": "stdout",
     "output_type": "stream",
     "text": [
      "['FX', 'FX+YF+', 'FX+YF++-FX-YF+', 'FX+YF++-FX-YF++-FX+YF+--FX-YF+']\n"
     ]
    }
   ],
   "source": [
    "# l-system rules\n",
    "drg_rules = {\n",
    "    \"X\": \"X+YF+\",\n",
    "    \"Y\": \"-FX-Y\",\n",
    "    \"F\": \"F\",\n",
    "    \"+\": \"+\",\n",
    "    \"-\": \"-\"\n",
    "}\n",
    "# variables\n",
    "drg_gens = 3     # how many times it will loop\n",
    "drg_sys = []     # saving the l-system generations\n",
    "drg_sys.append(\"FX\") # set the starting point\n",
    "\n",
    "# l-system generation looping\n",
    "for i in range(drg_gens):\n",
    "    # create a new generation\n",
    "    drg_sys.append(\"\")\n",
    "    # create the new system according to the rules\n",
    "    for c in drg_sys[i]:\n",
    "        drg_sys[i+1] += drg_rules[c]\n",
    "\n",
    "# see the result\n",
    "print(drg_sys)"
   ]
  },
  {
   "cell_type": "markdown",
   "metadata": {},
   "source": [
    "## Anxiety\n",
    "\n",
    "These poems are going to be about my anxieties, about my fears, about the eternal presence of them in my life. \n",
    "I want to speak about how these fears get into my life, how they get under my skin unpredictably and stop me from doing things.\n",
    "\n",
    "I'll make two lists of fears\n",
    "- `fearA`: adjectives (fear of being ...) \n",
    "- `fearV`: verbs (fear of ...)"
   ]
  },
  {
   "cell_type": "code",
   "execution_count": 5,
   "metadata": {},
   "outputs": [],
   "source": [
    "fearA = [\"abandoned\", \n",
    "         \"seen\",\n",
    "         \"invisible\",\n",
    "         \"unhappy\",\n",
    "         \"exposed\",\n",
    "         \"wrong\",\n",
    "         \"hated\",\n",
    "         \"resentful\",\n",
    "         \"forgotten\",\n",
    "         \"inadequate\",\n",
    "         \"embarassed\",\n",
    "         \"shamed\"]\n",
    "fearV = [\"failing\", \n",
    "         \"wasting opportunities\", \n",
    "         \"letting you down\",\n",
    "         \"looking into myself\",\n",
    "         \"hurting someone\",\n",
    "         \"hurting myself\",\n",
    "         \"suffering\",\n",
    "         \"exposing myself\",\n",
    "         \"losing my family\",\n",
    "         \"time passing me by\",\n",
    "         \"nothing getting better\",\n",
    "         \"going back\"]"
   ]
  },
  {
   "cell_type": "code",
   "execution_count": 6,
   "metadata": {},
   "outputs": [],
   "source": [
    "actions = [\n",
    "    'act',\n",
    "    'ask',\n",
    "    'cook',\n",
    "    'cry',\n",
    "    'dance',\n",
    "    'dream',\n",
    "    'eat',\n",
    "    'go',\n",
    "    'help',\n",
    "    'hop',\n",
    "    'joke',\n",
    "    'laugh',\n",
    "    'leave',\n",
    "    'listen',\n",
    "    'make',\n",
    "    'move',\n",
    "    'play',\n",
    "    'read',\n",
    "    'run',\n",
    "    'shout',\n",
    "    'sing',\n",
    "    'smile',\n",
    "    'talk',\n",
    "    'think',\n",
    "    'travel',\n",
    "    'wait',\n",
    "    'walk',\n",
    "    'write'\n",
    "]"
   ]
  },
  {
   "cell_type": "markdown",
   "metadata": {},
   "source": [
    "I realized I needed to add some functionalities to the `base_english` tracery modifier in order to add the `ing` suffix to the action verbs. In order to achieve this, I found the **modifiers.py** file and added the following function for this.\n",
    "\n",
    "```python\n",
    "def ing(text, *params):\n",
    "    if text[-1] == 'e':\n",
    "        return text[:-1] + \"ing\"\n",
    "    elif text[-1] in 'bgmnpt' and len(text) <= 4:\n",
    "        if text[-2] in \"aeiou\" and text[-3] not in \"aeiou\":\n",
    "            return text + text[-1] + \"ing\"\n",
    "        else:\n",
    "            return text + \"ing\"\n",
    "    else:\n",
    "        return text + \"ing\"\n",
    "```\n",
    "\n",
    "*(P.S.: I need to commit this changes to both respectives repositories, python and javascript)*"
   ]
  },
  {
   "cell_type": "code",
   "execution_count": 7,
   "metadata": {},
   "outputs": [
    {
     "data": {
      "text/plain": [
       "{'a': <function tracery.modifiers.a>,\n",
       " 'capitalize': <function tracery.modifiers.capitalize_>,\n",
       " 'capitalizeAll': <function tracery.modifiers.capitalizeAll>,\n",
       " 'ed': <function tracery.modifiers.ed>,\n",
       " 'firstS': <function tracery.modifiers.firstS>,\n",
       " 'ing': <function tracery.modifiers.ing>,\n",
       " 'lowercase': <function tracery.modifiers.lowercase>,\n",
       " 'replace': <function tracery.modifiers.replace>,\n",
       " 's': <function tracery.modifiers.s>,\n",
       " 'uppercase': <function tracery.modifiers.uppercase>}"
      ]
     },
     "execution_count": 7,
     "metadata": {},
     "output_type": "execute_result"
    }
   ],
   "source": [
    "# let's see if the function was added\n",
    "base_english"
   ]
  },
  {
   "cell_type": "code",
   "execution_count": 8,
   "metadata": {
    "scrolled": false
   },
   "outputs": [
    {
     "name": "stdout",
     "output_type": "stream",
     "text": [
      "reading and helping and writing and running\n",
      "moving and going and dreaming and asking\n",
      "eating and going and smiling and thinking\n"
     ]
    }
   ],
   "source": [
    "act_rules = {\n",
    "    'origin': '#act.ing# and #act.ing# and #act.ing# and #act.ing#',\n",
    "    'act': actions\n",
    "}\n",
    "act_grammar = tracery.Grammar(act_rules)\n",
    "act_grammar.add_modifiers(base_english)\n",
    "print(act_grammar.flatten(\"#origin#\"))\n",
    "print(act_grammar.flatten(\"#origin#\"))\n",
    "print(act_grammar.flatten(\"#origin#\"))"
   ]
  },
  {
   "cell_type": "markdown",
   "metadata": {},
   "source": [
    "And it works in every case! (at least the ones I remembered to add): \n",
    "- run > running\n",
    "- write > writing\n",
    "\n",
    "And doesn't fail in the errors I got in the beginning:\n",
    "- wait > waiting (not waitting)"
   ]
  },
  {
   "cell_type": "code",
   "execution_count": 9,
   "metadata": {},
   "outputs": [],
   "source": [
    "# based on corpora/data/words/encouraging_words\n",
    "mood_good = [\n",
    "    \"amazing\",\n",
    "    \"awesome\",\n",
    "    \"brilliant\",\n",
    "    \"cool\",\n",
    "    \"dazzling\",\n",
    "    \"enchanting\",\n",
    "    \"excellent\",\n",
    "    \"fabulous\",\n",
    "    \"fantastic\",\n",
    "    \"heavenly\",\n",
    "    \"impressive\",\n",
    "    \"innovative\",\n",
    "    \"inventive\",\n",
    "    \"magical\",\n",
    "    \"marvelous\",\n",
    "    \"masterful\",\n",
    "    \"original\",\n",
    "    \"phenomenal\",\n",
    "    \"powerful\",\n",
    "    \"remarkable\",\n",
    "    \"skillful\",\n",
    "    \"stupendous\",\n",
    "    \"terrific\",\n",
    "    \"wonderful\"\n",
    "]\n",
    "\n",
    "# based on corpora/data/words/states_of_drunkenness\n",
    "mood_baad = [\n",
    "    \"hammered\",\n",
    "    \"intoxicated\",\n",
    "    \"impaired\",\n",
    "    \"wrecked\",\n",
    "    \"pissed\",\n",
    "    \"depressed\",\n",
    "    \"buzzed\",\n",
    "    \"canned\",\n",
    "    \"torn\",\n",
    "    \"thrashed\",\n",
    "    \"trashed\",\n",
    "    \"smashed\",\n",
    "    \"destroyed\",\n",
    "    \"gone\",\n",
    "    \"annihilated\",\n",
    "    \"plastered\",\n",
    "    \"tanked\",\n",
    "    \"anxious\"\n",
    "]"
   ]
  },
  {
   "cell_type": "markdown",
   "metadata": {},
   "source": [
    "Now, for creating the syntax, I will need to save information. From [Kate's tutorial](http://www.crystalcodepalace.com/traceryTut.html).\n",
    "\n",
    "First, I will try to understand and do it bellow"
   ]
  },
  {
   "cell_type": "code",
   "execution_count": 10,
   "metadata": {},
   "outputs": [
    {
     "name": "stdout",
     "output_type": "stream",
     "text": [
      "I want to cry, Cry, CRY!\n"
     ]
    }
   ],
   "source": [
    "save_rules = {\n",
    "    # rules for texts\n",
    "    \"origin\": \"#[#setAction#]story#\",\n",
    "    \"story\": \"I want to #action#, #action.capitalize#, #action.uppercase#!\",\n",
    "    # saving information\n",
    "    \"setAction\": \"[action:#act#]\",\n",
    "    # lists\n",
    "    \"act\": actions\n",
    "}\n",
    "save_grammar = tracery.Grammar(save_rules)\n",
    "save_grammar.add_modifiers(base_english)\n",
    "print(save_grammar.flatten(\"#origin#\"))"
   ]
  },
  {
   "cell_type": "markdown",
   "metadata": {},
   "source": [
    "Now, to create the actual rules for what I want to do...\n",
    "\n",
    "I'm going to speak about my fears and anxieties. What they prevent me from doing. Their lingering presence. My hopes and how they get in the way."
   ]
  },
  {
   "cell_type": "code",
   "execution_count": 12,
   "metadata": {},
   "outputs": [
    {
     "name": "stdout",
     "output_type": "stream",
     "text": [
      "\n",
      "my fear of\n",
      "being inadequate\n",
      "keeps me from walking\n",
      "my fear of\n",
      "being inadequate\n",
      "it kept me from walking\n",
      "I do want to walk\n",
      "though intoxicated I am\n",
      "even when I'm feeling heavenly\n",
      "but I'm not good, I'm not\n",
      "but I can be powerful\n"
     ]
    }
   ],
   "source": [
    "rules = {\n",
    "    # rules for creating the texts\n",
    "    \"origin\": \"[#setFear#][#setAction#]#fp##hope#\",\n",
    "    \"keep\": [\"\\nit kept me from #action.ing#\",\"\\nkeeps me from #action.ing#\"],\n",
    "    \"even\": [\"\\neven when I'm feeling #g_mood#\"],\n",
    "    \"want\": \"\\nI do want to #action#\",\n",
    "    \"baad\": [\"\\nbut I'm not good, I'm not\",\"\\nyet I feel #b_mood#\", \"\\nthough #b_mood# I am\"],\n",
    "    \"hope\": [\"\\nbut I can be #g_mood#\",\"\\nI know I can be #g_mood#\",\"\\nI know I can survive\"],\n",
    "    # phrases\n",
    "    \"fp\": \"\\nmy fear of\\n#fear##kp#\",  #fear phrase\n",
    "    \"kp\": [\"#keep##pp#\", \"#keep##fp##pp#\"], #keep phrase\n",
    "    \"pp\": [\"#even#\", \"#want#\", \"#even##baad#\", \"#want##baad#\"], #possitive phrase\n",
    "    # saving information\n",
    "    \"setFear\": [\"[fear:being #fear_adj#]\",\"[fear:#fear_ver#]\"],\n",
    "    \"setAction\": \"[action:#act#]\",\n",
    "    # lists\n",
    "    \"fear_adj\": fearA,\n",
    "    \"fear_ver\": fearV,\n",
    "    \"act\": actions,\n",
    "    \"g_mood\": mood_good,\n",
    "    \"b_mood\": mood_baad\n",
    "}\n",
    "grammar = tracery.Grammar(rules)\n",
    "grammar.add_modifiers(base_english)\n",
    "poem1 = grammar.flatten(\"#origin#\")\n",
    "print(poem1)"
   ]
  },
  {
   "cell_type": "markdown",
   "metadata": {},
   "source": [
    "And to reflect the prevalence of my fears, that phrase will shape the whole stanza. All the text will be a column with the width of the selected fear. The first line (\"my fear of\") will get blank spaces in the beginning to make the fear phrase appear perfectly the first time."
   ]
  },
  {
   "cell_type": "code",
   "execution_count": 13,
   "metadata": {
    "scrolled": false
   },
   "outputs": [
    {
     "data": {
      "text/plain": [
       "['my fear of',\n",
       " 'being inadequate',\n",
       " 'keeps me from walking',\n",
       " 'my fear of',\n",
       " 'being inadequate',\n",
       " 'it kept me from walking',\n",
       " 'I do want to walk',\n",
       " 'though intoxicated I am',\n",
       " \"even when I'm feeling heavenly\",\n",
       " \"but I'm not good, I'm not\",\n",
       " 'but I can be powerful']"
      ]
     },
     "execution_count": 13,
     "metadata": {},
     "output_type": "execute_result"
    }
   ],
   "source": [
    "text_list = poem1.strip().split('\\n')\n",
    "text_list"
   ]
  },
  {
   "cell_type": "code",
   "execution_count": 14,
   "metadata": {},
   "outputs": [],
   "source": [
    "def columnize(text, length):\n",
    "    # initialize array of new text\n",
    "    column_text = []\n",
    "    # we're going over the whole text\n",
    "    i = 0\n",
    "    while i < len(text):\n",
    "        # append to the list the next chunk of text\n",
    "        column_text.append( text[i:i+length] )\n",
    "        # check if we're not by the end of it\n",
    "        # ACTUALLY IT'S NOT NEEDED (?)\n",
    "#         if i+length+length > len(text):\n",
    "#             # if we are, just append all the rest\n",
    "#             column_text.append( text[i+length:] )\n",
    "        # augment the index\n",
    "        i += length\n",
    "    return '\\n'.join(column_text)"
   ]
  },
  {
   "cell_type": "code",
   "execution_count": 32,
   "metadata": {},
   "outputs": [],
   "source": [
    "def fear_col(text):\n",
    "    # first, we transform the text into a list\n",
    "    text_list = text.strip().split('\\n')\n",
    "    # the target length is the length of the fear phrase\n",
    "    length = len(text_list[1])\n",
    "    \n",
    "    # calc how many blank spaces to add to the first line\n",
    "    num_spaces = (length - len(text_list[0])%length +1)%length\n",
    "    if num_spaces == 0:\n",
    "        pass\n",
    "    else:\n",
    "        # prepend \n",
    "        for i in range(num_spaces -2):\n",
    "            text_list[0] = ' ' + text_list[0]\n",
    "    \n",
    "    fear_text = columnize(' '.join(text_list), length)\n",
    "    return fear_text"
   ]
  },
  {
   "cell_type": "code",
   "execution_count": 16,
   "metadata": {},
   "outputs": [
    {
     "name": "stdout",
     "output_type": "stream",
     "text": [
      "my fear of being in\n",
      "adequate keeps me f\n",
      "rom walking my fear\n",
      " of being inadequat\n",
      "e it kept me from w\n",
      "alking I do want to\n",
      " walk though intoxi\n",
      "cated I am even whe\n",
      "n I'm feeling heave\n",
      "nly but I'm not goo\n",
      "d, I'm not but I ca\n",
      "n be powerful\n"
     ]
    }
   ],
   "source": [
    "# test columnize function\n",
    "col_text = columnize(' '.join(text_list), 19)\n",
    "print(col_text)"
   ]
  },
  {
   "cell_type": "code",
   "execution_count": 33,
   "metadata": {},
   "outputs": [
    {
     "name": "stdout",
     "output_type": "stream",
     "text": [
      "          my fear of \n",
      "wasting opportunities\n",
      " it kept me from writ\n",
      "ing I do want to writ\n",
      "e I know I can surviv\n",
      "e\n"
     ]
    }
   ],
   "source": [
    "# test fear column function\n",
    "fear_text = fear_col(poem1)\n",
    "print(fear_text)"
   ]
  },
  {
   "cell_type": "markdown",
   "metadata": {},
   "source": [
    "So, what I want to do with this, is create many of these poems. That way, I will be able to look at them, analyze my fears, make more sense of them and confront them."
   ]
  },
  {
   "cell_type": "code",
   "execution_count": 18,
   "metadata": {
    "scrolled": false
   },
   "outputs": [
    {
     "name": "stdout",
     "output_type": "stream",
     "text": [
      "     my fear of \n",
      "being inadequate\n",
      " it kept me from\n",
      " dreaming I do w\n",
      "ant to dream tho\n",
      "ugh gone I am I \n",
      "know I can be am\n",
      "azing\n",
      "my fear of \n",
      "being wrong\n",
      " it kept me\n",
      " from hoppi\n",
      "ng my fear \n",
      "of being wr\n",
      "ong keeps m\n",
      "e from hopp\n",
      "ing my fear\n",
      " of being w\n",
      "rong keeps \n",
      "me from hop\n",
      "ping I do w\n",
      "ant to hop \n",
      "but I'm not\n",
      " good, I'm \n",
      "not I do wa\n",
      "nt to hop I\n",
      " do want to\n",
      " hop I know\n",
      " I can surv\n",
      "ive\n",
      "          my fear of \n",
      "wasting opportunities\n",
      " keeps me from readin\n",
      "g even when I'm feeli\n",
      "ng skillful but I'm n\n",
      "ot good, I'm not I kn\n",
      "ow I can survive\n",
      "     my fear of \n",
      "being inadequate\n",
      " it kept me from\n",
      " eating my fear \n",
      "of being inadequ\n",
      "ate keeps me fro\n",
      "m eating my fear\n",
      " of being inadeq\n",
      "uate keeps me fr\n",
      "om eating I do w\n",
      "ant to eat even \n",
      "when I'm feeling\n",
      " cool though pis\n",
      "sed I am I do wa\n",
      "nt to eat I know\n",
      " I can survive\n",
      "          my fear of \n",
      "wasting opportunities\n",
      " it kept me from writ\n",
      "ing I do want to writ\n",
      "e I know I can surviv\n",
      "e\n"
     ]
    }
   ],
   "source": [
    "for i in range(5):\n",
    "    poem1 = grammar.flatten(\"#origin#\")\n",
    "    print( fear_col(poem1) )"
   ]
  },
  {
   "cell_type": "markdown",
   "metadata": {},
   "source": [
    "## Mixing things up : Dragon poem\n",
    "\n",
    "Now, it's time to combine the L-systems with my poem generator. \n",
    "\n",
    "I will use the dragon-curve system to generate some poems. Each of the characters will have the following meaning:\n",
    "- `F`: fear phrase (also, the poem will always start with this one)\n",
    "- `+`: \"even\" rule\n",
    "- `-`: \"baad\" rule\n",
    "- `X`: \"keep\" rule\n",
    "- `Y`: \"want\" rule\n",
    "- `.`: \"hope\" rule (which will end the poem)\n",
    "\n",
    "To use this correctly, the first rule will create each of these phrases, which will be added to a dictionary. Then, they will be ordered according to the system and it's rules to be finally printed out in the column format previously shown."
   ]
  },
  {
   "cell_type": "code",
   "execution_count": 45,
   "metadata": {},
   "outputs": [
    {
     "name": "stdout",
     "output_type": "stream",
     "text": [
      "\n",
      "my fear of\n",
      "being shamed\n",
      "even when I'm feeling excellent\n",
      "yet I feel plastered\n",
      "keeps me from eating\n",
      "I really wish to eat\n",
      "but I can be fantastic\n"
     ]
    }
   ],
   "source": [
    "drg_gram = {\n",
    "    # rules for creating the texts\n",
    "    \"origin\": \"[#setFear#][#setAction#]#fp##even##baad##keep##want##hope#\",\n",
    "    \"keep\": [\"\\nit kept me from #action.ing#\",\"\\nkeeps me from #action.ing#\"],\n",
    "    \"even\": [\"\\neven when I'm feeling #g_mood#\"],\n",
    "    \"want\": [\"\\nI do want to #action#\",\"\\nI really wish to #action#\"],\n",
    "    \"baad\": [\"\\nbut I'm not good, I'm not\",\"\\nyet I feel #b_mood#\", \"\\nthough #b_mood# I am\"],\n",
    "    \"hope\": [\"\\nbut I can be #g_mood#\",\"\\nI know I can be #g_mood#\",\"\\nI know I can survive\"],\n",
    "    # phrases\n",
    "    \"fp\": \"\\nmy fear of\\n#fear#\",  #fear phrase\n",
    "#     \"kp\": [\"#keep##pp#\", \"#keep##fp##pp#\"], #keep phrase\n",
    "#     \"pp\": [\"#even#\", \"#want#\", \"#even##baad#\", \"#want##baad#\"], #possitive phrase\n",
    "    # saving information\n",
    "    \"setFear\": [\"[fear:being #fear_adj#]\",\"[fear:#fear_ver#]\"],\n",
    "    \"setAction\": \"[action:#act#]\",\n",
    "    # lists\n",
    "    \"fear_adj\": fearA,\n",
    "    \"fear_ver\": fearV,\n",
    "    \"act\": actions,\n",
    "    \"g_mood\": mood_good,\n",
    "    \"b_mood\": mood_baad\n",
    "}\n",
    "drg_grammar = tracery.Grammar(drg_gram)\n",
    "drg_grammar.add_modifiers(base_english)\n",
    "drg_poem = drg_grammar.flatten(\"#origin#\")\n",
    "print(drg_poem)"
   ]
  },
  {
   "cell_type": "markdown",
   "metadata": {},
   "source": [
    "With this tracery output, I'm ready to define the new replacement rules and a function that handles that accordingly."
   ]
  },
  {
   "cell_type": "code",
   "execution_count": 23,
   "metadata": {},
   "outputs": [],
   "source": [
    "def system_poem(sys_rules, sys_chain):\n",
    "    sys_poem = \"\"\n",
    "    for c in sys_chain:\n",
    "        sys_poem += sys_rules[c]\n",
    "    return sys_poem"
   ]
  },
  {
   "cell_type": "code",
   "execution_count": 47,
   "metadata": {},
   "outputs": [
    {
     "name": "stdout",
     "output_type": "stream",
     "text": [
      "{'F': 'my fear of\\nbeing shamed\\n', '+': \"even when I'm feeling excellent\\n\", '-': 'yet I feel plastered\\n', 'X': 'keeps me from eating\\n', 'Y': 'I really wish to eat\\n', '.': 'but I can be fantastic'}\n",
      "FX+YF++-FX-YF++-FX+YF+--FX-YF+\n"
     ]
    }
   ],
   "source": [
    "drg_poem_list = drg_poem.strip().split('\\n')\n",
    "drg_replace = {\n",
    "    'F': '\\n'.join(drg_poem_list[0:2]) +'\\n',\n",
    "    '+': drg_poem_list[2] +'\\n',\n",
    "    '-': drg_poem_list[3] +'\\n',\n",
    "    'X': drg_poem_list[4] +'\\n',\n",
    "    'Y': drg_poem_list[5] +'\\n',\n",
    "    '.': drg_poem_list[-1]\n",
    "}\n",
    "print(drg_replace)\n",
    "print(drg_sys[-1])"
   ]
  },
  {
   "cell_type": "code",
   "execution_count": 48,
   "metadata": {},
   "outputs": [
    {
     "name": "stdout",
     "output_type": "stream",
     "text": [
      "my fear of\n",
      "being shamed\n",
      "keeps me from eating\n",
      "even when I'm feeling excellent\n",
      "I really wish to eat\n",
      "my fear of\n",
      "being shamed\n",
      "even when I'm feeling excellent\n",
      "even when I'm feeling excellent\n",
      "yet I feel plastered\n",
      "my fear of\n",
      "being shamed\n",
      "keeps me from eating\n",
      "yet I feel plastered\n",
      "I really wish to eat\n",
      "my fear of\n",
      "being shamed\n",
      "even when I'm feeling excellent\n",
      "even when I'm feeling excellent\n",
      "yet I feel plastered\n",
      "my fear of\n",
      "being shamed\n",
      "keeps me from eating\n",
      "even when I'm feeling excellent\n",
      "I really wish to eat\n",
      "my fear of\n",
      "being shamed\n",
      "even when I'm feeling excellent\n",
      "yet I feel plastered\n",
      "yet I feel plastered\n",
      "my fear of\n",
      "being shamed\n",
      "keeps me from eating\n",
      "yet I feel plastered\n",
      "I really wish to eat\n",
      "my fear of\n",
      "being shamed\n",
      "even when I'm feeling excellent\n",
      "but I can be fantastic\n"
     ]
    }
   ],
   "source": [
    "drgsys_poem = \"\"\n",
    "drgsys_poem += system_poem(drg_replace, drg_sys[-1])\n",
    "drgsys_poem += drg_replace['.']\n",
    "print(drgsys_poem)"
   ]
  },
  {
   "cell_type": "markdown",
   "metadata": {},
   "source": [
    "Finally, it only needs the correct formatting"
   ]
  },
  {
   "cell_type": "code",
   "execution_count": 49,
   "metadata": {
    "scrolled": false
   },
   "outputs": [
    {
     "name": "stdout",
     "output_type": "stream",
     "text": [
      " my fear of \n",
      "being shamed\n",
      " keeps me fr\n",
      "om eating ev\n",
      "en when I'm \n",
      "feeling exce\n",
      "llent I real\n",
      "ly wish to e\n",
      "at my fear o\n",
      "f being sham\n",
      "ed even when\n",
      " I'm feeling\n",
      " excellent e\n",
      "ven when I'm\n",
      " feeling exc\n",
      "ellent yet I\n",
      " feel plaste\n",
      "red my fear \n",
      "of being sha\n",
      "med keeps me\n",
      " from eating\n",
      " yet I feel \n",
      "plastered I \n",
      "really wish \n",
      "to eat my fe\n",
      "ar of being \n",
      "shamed even \n",
      "when I'm fee\n",
      "ling excelle\n",
      "nt even when\n",
      " I'm feeling\n",
      " excellent y\n",
      "et I feel pl\n",
      "astered my f\n",
      "ear of being\n",
      " shamed keep\n",
      "s me from ea\n",
      "ting even wh\n",
      "en I'm feeli\n",
      "ng excellent\n",
      " I really wi\n",
      "sh to eat my\n",
      " fear of bei\n",
      "ng shamed ev\n",
      "en when I'm \n",
      "feeling exce\n",
      "llent yet I \n",
      "feel plaster\n",
      "ed yet I fee\n",
      "l plastered \n",
      "my fear of b\n",
      "eing shamed \n",
      "keeps me fro\n",
      "m eating yet\n",
      " I feel plas\n",
      "tered I real\n",
      "ly wish to e\n",
      "at my fear o\n",
      "f being sham\n",
      "ed even when\n",
      " I'm feeling\n",
      " excellent b\n",
      "ut I can be \n",
      "fantastic\n"
     ]
    }
   ],
   "source": [
    "print( fear_col(drgsys_poem) )"
   ]
  },
  {
   "cell_type": "code",
   "execution_count": 51,
   "metadata": {
    "scrolled": false
   },
   "outputs": [
    {
     "name": "stdout",
     "output_type": "stream",
     "text": [
      "     my fear of \n",
      "letting you down\n",
      " keeps me from t\n",
      "raveling even wh\n",
      "en I'm feeling f\n",
      "antastic I do wa\n",
      "nt to travel my \n",
      "fear of letting \n",
      "you down even wh\n",
      "en I'm feeling f\n",
      "antastic even wh\n",
      "en I'm feeling f\n",
      "antastic but I'm\n",
      " not good, I'm n\n",
      "ot my fear of le\n",
      "tting you down k\n",
      "eeps me from tra\n",
      "veling but I'm n\n",
      "ot good, I'm not\n",
      " I do want to tr\n",
      "avel my fear of \n",
      "letting you down\n",
      " even when I'm f\n",
      "eeling fantastic\n",
      " even when I'm f\n",
      "eeling fantastic\n",
      " but I'm not goo\n",
      "d, I'm not my fe\n",
      "ar of letting yo\n",
      "u down keeps me \n",
      "from traveling e\n",
      "ven when I'm fee\n",
      "ling fantastic I\n",
      " do want to trav\n",
      "el my fear of le\n",
      "tting you down e\n",
      "ven when I'm fee\n",
      "ling fantastic b\n",
      "ut I'm not good,\n",
      " I'm not but I'm\n",
      " not good, I'm n\n",
      "ot my fear of le\n",
      "tting you down k\n",
      "eeps me from tra\n",
      "veling but I'm n\n",
      "ot good, I'm not\n",
      " I do want to tr\n",
      "avel my fear of \n",
      "letting you down\n",
      " even when I'm f\n",
      "eeling fantastic\n",
      " but I can be br\n",
      "illiant\n",
      "\n",
      "           my fear of \n",
      "nothing getting better\n",
      " keeps me from traveli\n",
      "ng even when I'm feeli\n",
      "ng awesome I really wi\n",
      "sh to travel my fear o\n",
      "f nothing getting bett\n",
      "er even when I'm feeli\n",
      "ng awesome even when I\n",
      "'m feeling awesome tho\n",
      "ugh tanked I am my fea\n",
      "r of nothing getting b\n",
      "etter keeps me from tr\n",
      "aveling though tanked \n",
      "I am I really wish to \n",
      "travel my fear of noth\n",
      "ing getting better eve\n",
      "n when I'm feeling awe\n",
      "some even when I'm fee\n",
      "ling awesome though ta\n",
      "nked I am my fear of n\n",
      "othing getting better \n",
      "keeps me from travelin\n",
      "g even when I'm feelin\n",
      "g awesome I really wis\n",
      "h to travel my fear of\n",
      " nothing getting bette\n",
      "r even when I'm feelin\n",
      "g awesome though tanke\n",
      "d I am though tanked I\n",
      " am my fear of nothing\n",
      " getting better keeps \n",
      "me from traveling thou\n",
      "gh tanked I am I reall\n",
      "y wish to travel my fe\n",
      "ar of nothing getting \n",
      "better even when I'm f\n",
      "eeling awesome I know \n",
      "I can survive\n",
      "\n",
      "  my fear of \n",
      "being unhappy\n",
      " keeps me fro\n",
      "m talking eve\n",
      "n when I'm fe\n",
      "eling inventi\n",
      "ve I do want \n",
      "to talk my fe\n",
      "ar of being u\n",
      "nhappy even w\n",
      "hen I'm feeli\n",
      "ng inventive \n",
      "even when I'm\n",
      " feeling inve\n",
      "ntive though \n",
      "impaired I am\n",
      " my fear of b\n",
      "eing unhappy \n",
      "keeps me from\n",
      " talking thou\n",
      "gh impaired I\n",
      " am I do want\n",
      " to talk my f\n",
      "ear of being \n",
      "unhappy even \n",
      "when I'm feel\n",
      "ing inventive\n",
      " even when I'\n",
      "m feeling inv\n",
      "entive though\n",
      " impaired I a\n",
      "m my fear of \n",
      "being unhappy\n",
      " keeps me fro\n",
      "m talking eve\n",
      "n when I'm fe\n",
      "eling inventi\n",
      "ve I do want \n",
      "to talk my fe\n",
      "ar of being u\n",
      "nhappy even w\n",
      "hen I'm feeli\n",
      "ng inventive \n",
      "though impair\n",
      "ed I am thoug\n",
      "h impaired I \n",
      "am my fear of\n",
      " being unhapp\n",
      "y keeps me fr\n",
      "om talking th\n",
      "ough impaired\n",
      " I am I do wa\n",
      "nt to talk my\n",
      " fear of bein\n",
      "g unhappy eve\n",
      "n when I'm fe\n",
      "eling inventi\n",
      "ve I know I c\n",
      "an be amazing\n",
      "\n",
      "    my fear of \n",
      "being invisible\n",
      " it kept me fro\n",
      "m singing even \n",
      "when I'm feelin\n",
      "g amazing I rea\n",
      "lly wish to sin\n",
      "g my fear of be\n",
      "ing invisible e\n",
      "ven when I'm fe\n",
      "eling amazing e\n",
      "ven when I'm fe\n",
      "eling amazing b\n",
      "ut I'm not good\n",
      ", I'm not my fe\n",
      "ar of being inv\n",
      "isible it kept \n",
      "me from singing\n",
      " but I'm not go\n",
      "od, I'm not I r\n",
      "eally wish to s\n",
      "ing my fear of \n",
      "being invisible\n",
      " even when I'm \n",
      "feeling amazing\n",
      " even when I'm \n",
      "feeling amazing\n",
      " but I'm not go\n",
      "od, I'm not my \n",
      "fear of being i\n",
      "nvisible it kep\n",
      "t me from singi\n",
      "ng even when I'\n",
      "m feeling amazi\n",
      "ng I really wis\n",
      "h to sing my fe\n",
      "ar of being inv\n",
      "isible even whe\n",
      "n I'm feeling a\n",
      "mazing but I'm \n",
      "not good, I'm n\n",
      "ot but I'm not \n",
      "good, I'm not m\n",
      "y fear of being\n",
      " invisible it k\n",
      "ept me from sin\n",
      "ging but I'm no\n",
      "t good, I'm not\n",
      " I really wish \n",
      "to sing my fear\n",
      " of being invis\n",
      "ible even when \n",
      "I'm feeling ama\n",
      "zing I know I c\n",
      "an be fantastic\n",
      "\n",
      "my fear of\n",
      " being see\n",
      "n keeps me\n",
      " from joki\n",
      "ng even wh\n",
      "en I'm fee\n",
      "ling brill\n",
      "iant I rea\n",
      "lly wish t\n",
      "o joke my \n",
      "fear of be\n",
      "ing seen e\n",
      "ven when I\n",
      "'m feeling\n",
      " brilliant\n",
      " even when\n",
      " I'm feeli\n",
      "ng brillia\n",
      "nt but I'm\n",
      " not good,\n",
      " I'm not m\n",
      "y fear of \n",
      "being seen\n",
      " keeps me \n",
      "from jokin\n",
      "g but I'm \n",
      "not good, \n",
      "I'm not I \n",
      "really wis\n",
      "h to joke \n",
      "my fear of\n",
      " being see\n",
      "n even whe\n",
      "n I'm feel\n",
      "ing brilli\n",
      "ant even w\n",
      "hen I'm fe\n",
      "eling bril\n",
      "liant but \n",
      "I'm not go\n",
      "od, I'm no\n",
      "t my fear \n",
      "of being s\n",
      "een keeps \n",
      "me from jo\n",
      "king even \n",
      "when I'm f\n",
      "eeling bri\n",
      "lliant I r\n",
      "eally wish\n",
      " to joke m\n",
      "y fear of \n",
      "being seen\n",
      " even when\n",
      " I'm feeli\n",
      "ng brillia\n",
      "nt but I'm\n",
      " not good,\n",
      " I'm not b\n",
      "ut I'm not\n",
      " good, I'm\n",
      " not my fe\n",
      "ar of bein\n",
      "g seen kee\n",
      "ps me from\n",
      " joking bu\n",
      "t I'm not \n",
      "good, I'm \n",
      "not I real\n",
      "ly wish to\n",
      " joke my f\n",
      "ear of bei\n",
      "ng seen ev\n",
      "en when I'\n",
      "m feeling \n",
      "brilliant \n",
      "I know I c\n",
      "an survive\n",
      "\n"
     ]
    }
   ],
   "source": [
    "for i in range(5):\n",
    "    # get new fear base\n",
    "    drg_source = drg_grammar.flatten(\"#origin#\")\n",
    "    # create the replacement logic\n",
    "    drg_src_list = drg_source.strip().split('\\n')\n",
    "    drg_replace = {\n",
    "        'F': '\\n'.join(drg_src_list[0:2]) +'\\n',\n",
    "        '+': drg_src_list[2] +'\\n',\n",
    "        '-': drg_src_list[3] +'\\n',\n",
    "        'X': drg_src_list[4] +'\\n',\n",
    "        'Y': drg_src_list[5] +'\\n',\n",
    "        '.': drg_src_list[-1]\n",
    "    }\n",
    "    # concatenate the poem according to the system\n",
    "    drgsys_poem = \"\"\n",
    "    drgsys_poem += system_poem(drg_replace, drg_sys[-1])\n",
    "    drgsys_poem += drg_replace['.']\n",
    "    # format and print the result\n",
    "    print( fear_col(drgsys_poem) )\n",
    "    print(\"\")"
   ]
  },
  {
   "cell_type": "code",
   "execution_count": null,
   "metadata": {},
   "outputs": [],
   "source": []
  }
 ],
 "metadata": {
  "kernelspec": {
   "display_name": "Python 3",
   "language": "python",
   "name": "python3"
  },
  "language_info": {
   "codemirror_mode": {
    "name": "ipython",
    "version": 3
   },
   "file_extension": ".py",
   "mimetype": "text/x-python",
   "name": "python",
   "nbconvert_exporter": "python",
   "pygments_lexer": "ipython3",
   "version": "3.6.4"
  }
 },
 "nbformat": 4,
 "nbformat_minor": 2
}
