{
 "cells": [
  {
   "cell_type": "markdown",
   "metadata": {},
   "source": [
    "# RWET - Feb 23\n",
    "\n",
    "## Outline\n",
    "- homework presentations\n",
    "- dictionaries\n",
    "- JSON"
   ]
  },
  {
   "cell_type": "code",
   "execution_count": 12,
   "metadata": {
    "collapsed": true
   },
   "outputs": [],
   "source": [
    "import random as rng"
   ]
  },
  {
   "cell_type": "markdown",
   "metadata": {
    "collapsed": true
   },
   "source": [
    "## `for` loops! \\*yay\\*\n",
    "\n",
    "In Python, `for` loops go over `lists` instead of creating some conditions\n",
    "\n",
    "```python\n",
    "for item in a_list:\n",
    "    thing()\n",
    "    thing()\n",
    "    more_things()\n",
    "```\n",
    "\n",
    "What we place in `a_list` has to be something that **evaluates** to a list"
   ]
  },
  {
   "cell_type": "code",
   "execution_count": 2,
   "metadata": {
    "collapsed": true
   },
   "outputs": [],
   "source": [
    "cheesus = ['cheddar', 'camembert', 'brie', 'parmesan', 'gorgonzola', 'goat']"
   ]
  },
  {
   "cell_type": "code",
   "execution_count": 5,
   "metadata": {},
   "outputs": [
    {
     "name": "stdout",
     "output_type": "stream",
     "text": [
      "cheddar\n",
      "camembert\n",
      "brie\n",
      "parmesan\n",
      "gorgonzola\n",
      "goat\n",
      "==\n",
      "CHEDDAR\n",
      "CAMEMBERT\n",
      "BRIE\n",
      "PARMESAN\n",
      "GORGONZOLA\n",
      "GOAT\n"
     ]
    }
   ],
   "source": [
    "# if we want to print it, we can do...\n",
    "print('\\n'.join(cheesus))\n",
    "\n",
    "\n",
    "print('==')\n",
    "# or, using a for loop\n",
    "for item in cheesus:\n",
    "    yell_cheese = item.upper()\n",
    "    print(yell_cheese)"
   ]
  },
  {
   "cell_type": "markdown",
   "metadata": {},
   "source": [
    "The function `range(X)` is extremelly useful for `for` loops, as it returns a list of X elements from `0` to `X-1`"
   ]
  },
  {
   "cell_type": "code",
   "execution_count": 6,
   "metadata": {},
   "outputs": [
    {
     "name": "stdout",
     "output_type": "stream",
     "text": [
      "👾\n",
      "👾\n",
      "👾\n",
      "👾\n",
      "👾\n",
      "👾\n",
      "👾\n",
      "👾\n",
      "👾\n",
      "👾\n",
      "👾\n"
     ]
    }
   ],
   "source": [
    "for i in range(11):\n",
    "    print('👾')"
   ]
  },
  {
   "cell_type": "markdown",
   "metadata": {},
   "source": [
    "`range` can have more parameters:\n",
    "- `range(a, b)` goes from `a` to `b` \n",
    "- `range(a, b, c)` goes from `a` to `b` with a step of `c`"
   ]
  },
  {
   "cell_type": "code",
   "execution_count": 10,
   "metadata": {},
   "outputs": [
    {
     "name": "stdout",
     "output_type": "stream",
     "text": [
      "5\n",
      "6\n",
      "7\n",
      "8\n",
      "9\n",
      "10\n",
      "11\n",
      "12\n",
      "13\n",
      "14\n",
      "15\n",
      "16\n",
      "17\n",
      "18\n",
      "19\n",
      "\n",
      "==\n",
      "\n",
      "5\n",
      "7\n",
      "9\n",
      "11\n",
      "13\n",
      "15\n",
      "17\n",
      "19\n"
     ]
    }
   ],
   "source": [
    "for i in range(5, 20):\n",
    "    print(i)\n",
    "    \n",
    "print('\\n==\\n')\n",
    "for i in range(5, 20, 2):\n",
    "    print(i)\n"
   ]
  },
  {
   "cell_type": "markdown",
   "metadata": {},
   "source": [
    "##  write a computer generated **[acrostic](https://en.wikipedia.org/wiki/Acrostic)** \n",
    "\n",
    "        "
   ]
  },
  {
   "cell_type": "code",
   "execution_count": 14,
   "metadata": {
    "collapsed": true
   },
   "outputs": [],
   "source": [
    "words = open('../rwet/frost.txt').read().lower().split()"
   ]
  },
  {
   "cell_type": "code",
   "execution_count": 21,
   "metadata": {},
   "outputs": [],
   "source": [
    "# `findStart(words, letter)` looks for a word starting with a specific `letter`\n",
    "\n",
    "def findStart(words, letter):\n",
    "    i = 0\n",
    "    # first we separate all the words that start with the desired letter\n",
    "    possibles = [ w for w in words if w[0].lower()==letter.lower() ]\n",
    "    # if there's no such letter, we return an empty string\n",
    "    if len(possibles) == 0:\n",
    "        return \"\"\n",
    "    else: # else, we return a random one\n",
    "        return rng.choice(possibles)"
   ]
  },
  {
   "cell_type": "code",
   "execution_count": 23,
   "metadata": {},
   "outputs": [
    {
     "name": "stdout",
     "output_type": "stream",
     "text": [
      "Roads\n",
      "One\n",
      "Both\n",
      "Equally\n",
      "Really\n",
      "Trodden\n",
      "\n",
      "Far\n",
      "Roads\n",
      "Other,\n",
      "Step\n",
      "Took\n"
     ]
    }
   ],
   "source": [
    "for c in \"ROBERT FROST\":\n",
    "    print( findStart(words, c).capitalize() )"
   ]
  },
  {
   "cell_type": "markdown",
   "metadata": {},
   "source": [
    "This is a good solution, but is not very efficient if we're dealing with a **big** corpus and/or too many calls to this function...\n",
    "\n",
    "We need a data structure that lets us have:\n",
    "'r' -> [\"robert\", \"rotten\", ...]\n",
    "'o' -> [\"other\", \"of\", ...]\n",
    "\n",
    "So... 🌈🌈**DICTIONARIES** 🌈🌈!!!"
   ]
  },
  {
   "cell_type": "markdown",
   "metadata": {},
   "source": [
    "### Dictionaries\n",
    "\n",
    "A dictionary is a data structure that maps a `key` to a `value`\n",
    "\n",
    "We define a dictionary with curly brackets `{}` and map the keys to values as `key:value`"
   ]
  },
  {
   "cell_type": "code",
   "execution_count": 28,
   "metadata": {},
   "outputs": [
    {
     "name": "stdout",
     "output_type": "stream",
     "text": [
      "<class 'dict'>\n"
     ]
    },
    {
     "data": {
      "text/plain": [
       "{'earth': 1.0, 'mars': 1.523, 'mercury': 0.387, 'venus': 0.723}"
      ]
     },
     "execution_count": 28,
     "metadata": {},
     "output_type": "execute_result"
    }
   ],
   "source": [
    "dist_AU = {\"mercury\":0.387, \"venus\":0.723, \"earth\":1.000, \"mars\":1.523 }\n",
    "print(type(dist_AU))\n",
    "dist_AU"
   ]
  },
  {
   "cell_type": "markdown",
   "metadata": {},
   "source": [
    "Dictionaries in pyhton **are not ordered**"
   ]
  },
  {
   "cell_type": "markdown",
   "metadata": {},
   "source": [
    "To access a `value` from a `key`, you call it with square brackets (`[key]`)"
   ]
  },
  {
   "cell_type": "code",
   "execution_count": 31,
   "metadata": {},
   "outputs": [
    {
     "data": {
      "text/plain": [
       "0.723"
      ]
     },
     "execution_count": 31,
     "metadata": {},
     "output_type": "execute_result"
    }
   ],
   "source": [
    "dist_AU['venus']"
   ]
  },
  {
   "cell_type": "markdown",
   "metadata": {},
   "source": [
    "You can search if a key exists with the `in` operator"
   ]
  },
  {
   "cell_type": "code",
   "execution_count": 33,
   "metadata": {},
   "outputs": [
    {
     "name": "stdout",
     "output_type": "stream",
     "text": [
      "True\n",
      "False\n",
      "True\n"
     ]
    }
   ],
   "source": [
    "print( 'mars' in dist_AU )\n",
    "print( 'nibiru' in dist_AU )\n",
    "print( 'nibiru' not in dist_AU )"
   ]
  },
  {
   "cell_type": "markdown",
   "metadata": {},
   "source": [
    "To add a new key-value pair, you declare it with an assignment operation (or you can change it the same way)"
   ]
  },
  {
   "cell_type": "code",
   "execution_count": 35,
   "metadata": {},
   "outputs": [
    {
     "data": {
      "text/plain": [
       "{'earth': 1.0, 'jupiter': 5.2, 'mars': 1.523, 'mercury': 0.387, 'venus': 0.723}"
      ]
     },
     "execution_count": 35,
     "metadata": {},
     "output_type": "execute_result"
    }
   ],
   "source": [
    "dist_AU['jupiter'] = 5.2\n",
    "dist_AU"
   ]
  },
  {
   "cell_type": "markdown",
   "metadata": {},
   "source": [
    "Keys can also be numbers"
   ]
  },
  {
   "cell_type": "code",
   "execution_count": 39,
   "metadata": {},
   "outputs": [
    {
     "data": {
      "text/plain": [
       "'two'"
      ]
     },
     "execution_count": 39,
     "metadata": {},
     "output_type": "execute_result"
    }
   ],
   "source": [
    "number_words = {0:'zero', 1:'one', 2:'two', 3:'three', 4:'four', 5:'five'}\n",
    "number_words[2]"
   ]
  },
  {
   "cell_type": "markdown",
   "metadata": {},
   "source": [
    "And values can also be lists!"
   ]
  },
  {
   "cell_type": "code",
   "execution_count": 41,
   "metadata": {},
   "outputs": [
    {
     "data": {
      "text/plain": [
       "['Phobos', 'Deimos']"
      ]
     },
     "execution_count": 41,
     "metadata": {},
     "output_type": "execute_result"
    }
   ],
   "source": [
    "planet_moons = {\n",
    "    \"Mercury\": [],\n",
    "    \"Venus\": [],\n",
    "    \"Earth\": [\"Moon\"],\n",
    "    \"Mars\": [\"Phobos\", \"Deimos\"],\n",
    "    \"Jupiter\": [\"Io\", \"Europa\", \"Ganymede\", \"Callisto\"]\n",
    "}\n",
    "\n",
    "planet_moons[\"Mars\"]"
   ]
  },
  {
   "cell_type": "markdown",
   "metadata": {},
   "source": [
    "... going back to the **acrostic**"
   ]
  },
  {
   "cell_type": "code",
   "execution_count": 71,
   "metadata": {},
   "outputs": [],
   "source": [
    "# first, initialize the dictionary\n",
    "start_letter = {}\n",
    "\n",
    "# second, generate the database dictionary, for every letter in the word list\n",
    "for w in words:\n",
    "    initial = w[0].lower()\n",
    "    if initial not in start_letter:\n",
    "        start_letter[initial] = []\n",
    "    start_letter[initial].append(w)\n",
    "\n",
    "for c in [' ', '.', ',', '-', '?']:\n",
    "    start_letter[c] = [c]"
   ]
  },
  {
   "cell_type": "code",
   "execution_count": 74,
   "metadata": {
    "scrolled": false
   },
   "outputs": [
    {
     "name": "stdout",
     "output_type": "stream",
     "text": [
      "Really\n",
      "One\n",
      "Both\n",
      "Ever\n",
      "Really\n",
      "Them\n",
      " \n",
      "First\n",
      "Roads\n",
      "On\n",
      "Somewhere\n",
      "The\n",
      ".\n"
     ]
    }
   ],
   "source": [
    "for c in \"ROBERT FROST.\":\n",
    "    print( rng.choice( start_letter[c.lower()] ).capitalize() )"
   ]
  },
  {
   "cell_type": "code",
   "execution_count": 75,
   "metadata": {},
   "outputs": [
    {
     "name": "stdout",
     "output_type": "stream",
     "text": [
      "Ages\n",
      "Claim,\n",
      "As\n",
      "Diverged\n",
      "Equally\n",
      "Morning\n",
      "I\n",
      "Could\n",
      "Should\n"
     ]
    }
   ],
   "source": [
    "# another way...\n",
    "seed_phrase = \"academics\"\n",
    "\n",
    "acrostic = [rng.choice( start_letter[c] ).capitalize() for c in seed_phrase]\n",
    "print('\\n'.join(acrostic))"
   ]
  },
  {
   "cell_type": "markdown",
   "metadata": {},
   "source": [
    "## Guest speaker: [Darius Kazemi](https://github.com/dariusk) - [Corpora Project](https://github.com/dariusk/corpora)\n",
    "\n",
    "So cool! but... how to use it in our scipts?!\n",
    "\n",
    "Well... JSON files are typed as dictionaties in python, but is still a string!! **not** python syntax!!\n",
    "\n",
    "- Go to the file > RAW > Save as... > .json file\n",
    "- import the `json` package\n",
    "- and `json.loads()` the data!"
   ]
  },
  {
   "cell_type": "code",
   "execution_count": 76,
   "metadata": {
    "collapsed": true
   },
   "outputs": [],
   "source": [
    "import json"
   ]
  },
  {
   "cell_type": "code",
   "execution_count": 83,
   "metadata": {},
   "outputs": [],
   "source": [
    "animals_data = json.loads( open(\"./sources/common.json\", 'r').read() )"
   ]
  },
  {
   "cell_type": "code",
   "execution_count": 85,
   "metadata": {
    "scrolled": false
   },
   "outputs": [
    {
     "name": "stdout",
     "output_type": "stream",
     "text": [
      "{'animals': ['aardvark', 'alligator', 'alpaca', 'antelope', 'ape', 'armadillo', 'baboon', 'badger', 'bat', 'bear', 'beaver', 'bison', 'boar', 'buffalo', 'bull', 'camel', 'canary', 'capybara', 'cat', 'chameleon', 'cheetah', 'chimpanzee', 'chinchilla', 'chipmunk', 'cougar', 'cow', 'coyote', 'crocodile', 'crow', 'deer', 'dingo', 'dog', 'donkey', 'dromedary', 'elephant', 'elk', 'ewe', 'ferret', 'finch', 'fish', 'fox', 'frog', 'gazelle', 'gila monster', 'giraffe', 'gnu', 'goat', 'gopher', 'gorilla', 'grizzly bear', 'ground hog', 'guinea pig', 'hamster', 'hedgehog', 'hippopotamus', 'hog', 'horse', 'hyena', 'ibex', 'iguana', 'impala', 'jackal', 'jaguar', 'kangaroo', 'koala', 'lamb', 'lemur', 'leopard', 'lion', 'lizard', 'llama', 'lynx', 'mandrill', 'marmoset', 'mink', 'mole', 'mongoose', 'monkey', 'moose', 'mountain goat', 'mouse', 'mule', 'muskrat', 'mustang', 'mynah bird', 'newt', 'ocelot', 'opossum', 'orangutan', 'oryx', 'otter', 'ox', 'panda', 'panther', 'parakeet', 'parrot', 'pig', 'platypus', 'polar bear', 'porcupine', 'porpoise', 'prairie dog', 'puma', 'rabbit', 'raccoon', 'ram', 'rat', 'reindeer', 'reptile', 'rhinoceros', 'salamander', 'seal', 'sheep', 'shrew', 'silver fox', 'skunk', 'sloth', 'snake', 'squirrel', 'tapir', 'tiger', 'toad', 'turtle', 'walrus', 'warthog', 'weasel', 'whale', 'wildcat', 'wolf', 'wolverine', 'wombat', 'woodchuck', 'yak', 'zebra']}\n"
     ]
    }
   ],
   "source": [
    "print(animals_data)"
   ]
  },
  {
   "cell_type": "markdown",
   "metadata": {},
   "source": [
    "But, this is a dictionary! If we want to access the `list`, we need to access the value from the `\"animals\"` key"
   ]
  },
  {
   "cell_type": "code",
   "execution_count": 86,
   "metadata": {
    "collapsed": true
   },
   "outputs": [],
   "source": [
    "animals_list = animals_data[\"animals\"]"
   ]
  },
  {
   "cell_type": "code",
   "execution_count": 89,
   "metadata": {},
   "outputs": [
    {
     "name": "stdout",
     "output_type": "stream",
     "text": [
      "['bear', 'parrot', 'chipmunk', 'mole', 'gopher', 'marmoset', 'gorilla', 'rhinoceros', 'fox', 'dromedary']\n"
     ]
    }
   ],
   "source": [
    "print(rng.sample(animals_list, 10))"
   ]
  }
 ],
 "metadata": {
  "kernelspec": {
   "display_name": "Python 3",
   "language": "python",
   "name": "python3"
  },
  "language_info": {
   "codemirror_mode": {
    "name": "ipython",
    "version": 3
   },
   "file_extension": ".py",
   "mimetype": "text/x-python",
   "name": "python",
   "nbconvert_exporter": "python",
   "pygments_lexer": "ipython3",
   "version": "3.6.3"
  }
 },
 "nbformat": 4,
 "nbformat_minor": 2
}
