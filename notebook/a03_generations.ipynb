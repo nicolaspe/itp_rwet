{
 "cells": [
  {
   "cell_type": "markdown",
   "metadata": {},
   "source": [
    "# Assignment 2: Poetry mashing\n",
    "\n",
    "by [Nicolás Escarpentier](http://nicolaspe.com)"
   ]
  },
  {
   "cell_type": "markdown",
   "metadata": {},
   "source": [
    "## Imports & function definitions\n",
    "Bellow are some libraries & functions I will use along the way \n",
    "\n",
    "- `leastUsed(words, appear_limit)` returns a list with the words with less than `appear_limit` appearances on the list\n",
    "- `removeAll(bye, words)` removes all appearances of `bye` in the `words` list\n",
    "- `findLenStart(words, length, letter)` looks for a word of a specific `length`, starting with a specific `letter`"
   ]
  },
  {
   "cell_type": "code",
   "execution_count": 53,
   "metadata": {
    "collapsed": true
   },
   "outputs": [],
   "source": [
    "import random as rng"
   ]
  },
  {
   "cell_type": "code",
   "execution_count": 39,
   "metadata": {
    "collapsed": true
   },
   "outputs": [],
   "source": [
    "def leastUsed(words, appear_limit):\n",
    "    # create a dictionary that tracks the number of appearances of any word\n",
    "    counter = {}\n",
    "    for w in words:\n",
    "        # initialize the word in the dictionary\n",
    "        if w not in counter:\n",
    "            counter[w] = 0\n",
    "        ## add to the appearances\n",
    "        counter[w] += 1\n",
    "    # create a list with the \"rare\" words\n",
    "    rares = []\n",
    "    for w in counter:\n",
    "        if counter[w] < appear_limit and w not in rares:\n",
    "            rares.append(w)\n",
    "    # return the list\n",
    "    return rares\n"
   ]
  },
  {
   "cell_type": "code",
   "execution_count": 40,
   "metadata": {
    "collapsed": true
   },
   "outputs": [],
   "source": [
    "def removeAll(bye, words):\n",
    "    while(bye in words):\n",
    "        words.remove(bye)\n"
   ]
  },
  {
   "cell_type": "code",
   "execution_count": 54,
   "metadata": {
    "collapsed": true
   },
   "outputs": [],
   "source": [
    "def findLenStart(words, length, letter):\n",
    "    # first, we try to find a word that matches the length AND starting letter\n",
    "    for w in words:\n",
    "        if len(w) == length and w[0] == letter:\n",
    "            return w\n",
    "    # otherwise, we just return one that has the target length\n",
    "    for w in words:\n",
    "        if len(w) == length:\n",
    "            return w\n",
    "    # if there's no such word, we return an empty string\n",
    "    return \"\""
   ]
  },
  {
   "cell_type": "markdown",
   "metadata": {},
   "source": [
    "## Text souces\n",
    "\n",
    "I will use Eileen Myles' poem *\"Peanut Butter\"* and Emmeline Pankhurst's speech *\"I Incite This Meeting to Rebellion\"* as sources for these poems. "
   ]
  },
  {
   "cell_type": "code",
   "execution_count": 49,
   "metadata": {
    "scrolled": true
   },
   "outputs": [],
   "source": [
    "poem_lines = [line.strip() for line in open('./sources/eileen_peanutbutter.txt', 'r')]"
   ]
  },
  {
   "cell_type": "code",
   "execution_count": 51,
   "metadata": {
    "scrolled": false
   },
   "outputs": [
    {
     "name": "stdout",
     "output_type": "stream",
     "text": [
      "286\n"
     ]
    }
   ],
   "source": [
    "text_src = open('./sources/emmeline_iincitethismeetingtorebellion.txt', 'r').read()\n",
    "text_words = text_src.replace('\\n',' ').replace('.',' ').replace(',',' ').replace('-',' ').replace('—',' ').replace('\"',' ').strip().split(' ')\n",
    "text_least = leastUsed(text_words, 4)\n",
    "#print( text_least )\n",
    "print( len(text_least) )"
   ]
  },
  {
   "cell_type": "code",
   "execution_count": 52,
   "metadata": {
    "scrolled": false
   },
   "outputs": [
    {
     "data": {
      "text/plain": [
       "True"
      ]
     },
     "execution_count": 52,
     "metadata": {},
     "output_type": "execute_result"
    }
   ],
   "source": [
    "\"rebellion\" in text_least"
   ]
  },
  {
   "cell_type": "markdown",
   "metadata": {},
   "source": [
    "### 1"
   ]
  },
  {
   "cell_type": "code",
   "execution_count": null,
   "metadata": {
    "collapsed": true
   },
   "outputs": [],
   "source": [
    "creation = []\n",
    "creation.append(poem_lines[0])\n",
    "for i in rng.randrange(6, 12):\n",
    "    a1 = rng.choice(poem_lines)\n",
    "    "
   ]
  }
 ],
 "metadata": {
  "kernelspec": {
   "display_name": "Python 3",
   "language": "python",
   "name": "python3"
  },
  "language_info": {
   "codemirror_mode": {
    "name": "ipython",
    "version": 3
   },
   "file_extension": ".py",
   "mimetype": "text/x-python",
   "name": "python",
   "nbconvert_exporter": "python",
   "pygments_lexer": "ipython3",
   "version": "3.6.3"
  }
 },
 "nbformat": 4,
 "nbformat_minor": 2
}
