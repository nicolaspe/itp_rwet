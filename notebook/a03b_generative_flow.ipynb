{
 "cells": [
  {
   "cell_type": "markdown",
   "metadata": {},
   "source": [
    "# Assignment 3: Poetry mashing\n",
    "\n",
    "by [Nicolás Escarpentier](http://nicolaspe.com)"
   ]
  },
  {
   "cell_type": "markdown",
   "metadata": {},
   "source": [
    "## Imports & function definitions\n",
    "Bellow are some libraries & functions I will use along the way (and that can be useful for other ocassions)\n",
    "\n",
    "- `leastUsed(words, appear_limit)` returns a list with the words with less than `appear_limit` appearances on the list\n",
    "- `removeAll(bye, words)` removes all appearances of `bye` in the `words` list\n",
    "- `findLength(words, length)` looks for a word of a specific `length`\n",
    "- `findStart(words, letter)` looks for a word starting with a specific `letter`"
   ]
  },
  {
   "cell_type": "code",
   "execution_count": 14,
   "metadata": {
    "collapsed": true
   },
   "outputs": [],
   "source": [
    "import random as rng\n",
    "import nltk"
   ]
  },
  {
   "cell_type": "markdown",
   "metadata": {},
   "source": [
    "*this line is necessary, but it should be run only once in the machine*"
   ]
  },
  {
   "cell_type": "code",
   "execution_count": 16,
   "metadata": {},
   "outputs": [
    {
     "name": "stdout",
     "output_type": "stream",
     "text": [
      "[nltk_data] Downloading package punkt to\n",
      "[nltk_data]     /Users/nicolaspenaescarpentier/nltk_data...\n",
      "[nltk_data]   Unzipping tokenizers/punkt.zip.\n"
     ]
    },
    {
     "data": {
      "text/plain": [
       "True"
      ]
     },
     "execution_count": 16,
     "metadata": {},
     "output_type": "execute_result"
    }
   ],
   "source": [
    "#nltk.download('punkt')"
   ]
  },
  {
   "cell_type": "code",
   "execution_count": 2,
   "metadata": {
    "collapsed": true
   },
   "outputs": [],
   "source": [
    "def leastUsed(words, appear_limit):\n",
    "    # create a dictionary that tracks the number of appearances of any word\n",
    "    counter = {}\n",
    "    for w in words:\n",
    "        # initialize the word in the dictionary\n",
    "        if w not in counter:\n",
    "            counter[w] = 0\n",
    "        ## add to the appearances\n",
    "        counter[w] += 1\n",
    "    # create a list with the \"rare\" words\n",
    "    rares = []\n",
    "    for w in counter:\n",
    "        if counter[w] < appear_limit and w not in rares:\n",
    "            rares.append(w)\n",
    "    # return the list\n",
    "    return rares\n"
   ]
  },
  {
   "cell_type": "code",
   "execution_count": 3,
   "metadata": {
    "collapsed": true
   },
   "outputs": [],
   "source": [
    "def removeAll(bye, words):\n",
    "    while(bye in words):\n",
    "        words.remove(bye)\n"
   ]
  },
  {
   "cell_type": "code",
   "execution_count": 4,
   "metadata": {
    "collapsed": true
   },
   "outputs": [],
   "source": [
    "def findLength(words, length):\n",
    "    i = 0\n",
    "    # first we separate all the words that are the desired length\n",
    "    possibles = [ w for w in words if len(w)==length ]\n",
    "    # if there's no such letter, we return an empty string\n",
    "    if len(possibles) == 0:\n",
    "        return \"\"\n",
    "    else: # else, we return a random one\n",
    "        return rng.choice(possibles)"
   ]
  },
  {
   "cell_type": "code",
   "execution_count": 5,
   "metadata": {
    "collapsed": true
   },
   "outputs": [],
   "source": [
    "def findStart(words, letter):\n",
    "    i = 0\n",
    "    # first we separate all the words that start with the desired letter\n",
    "    possibles = [ w for w in words if w[0].lower()==letter.lower() ]\n",
    "    # if there's no such letter, we return an empty string\n",
    "    if len(possibles) == 0:\n",
    "        return \"\"\n",
    "    else: # else, we return a random one\n",
    "        return rng.choice(possibles)"
   ]
  },
  {
   "cell_type": "markdown",
   "metadata": {},
   "source": [
    "## Text souces\n",
    "\n",
    "I will use Eileen Myles' poems *\"Peanut Butter\"* and *\"Each Defeat\"*, as well as Emmeline Pankhurst's speech *\"I Incite This Meeting to Rebellion\"* as sources for these poems. "
   ]
  },
  {
   "cell_type": "code",
   "execution_count": 19,
   "metadata": {
    "collapsed": true
   },
   "outputs": [],
   "source": [
    "poem_1 = [line.strip() for line in open('./sources/eileen_peanutbutter.txt', 'r')]\n",
    "poem_2 = [line.strip() for line in open('./sources/eileen_eachdefeat.txt', 'r')]\n",
    "poems = poem_1 + poem_2"
   ]
  },
  {
   "cell_type": "code",
   "execution_count": 30,
   "metadata": {
    "scrolled": false
   },
   "outputs": [
    {
     "name": "stdout",
     "output_type": "stream",
     "text": [
      "291\n"
     ]
    }
   ],
   "source": [
    "text_src = open('./sources/emmeline_iincitethismeetingtorebellion.txt', 'r').read()\n",
    "text_lines = nltk.sent_tokenize(text_src)\n",
    "text_words = nltk.word_tokenize(text_src)\n",
    "text_least = leastUsed(text_words, 4)\n",
    "# print( text_least )\n",
    "print( len(text_least) )"
   ]
  },
  {
   "cell_type": "code",
   "execution_count": 37,
   "metadata": {
    "collapsed": true
   },
   "outputs": [],
   "source": [
    "l_strong = ['b', 'c', 'p', 't']\n",
    "l_flow   = ['d', 'f', 'g', 'l', 's']\n",
    "l_vowel  = ['a', 'e', 'i', 'o', 'u']"
   ]
  },
  {
   "cell_type": "markdown",
   "metadata": {},
   "source": [
    "## flowing poems"
   ]
  },
  {
   "cell_type": "code",
   "execution_count": 56,
   "metadata": {
    "collapsed": true
   },
   "outputs": [],
   "source": [
    "def flowLine():\n",
    "    line = ''\n",
    "    line += findStart(text_least, rng.choice(l_flow))  + ' '\n",
    "    line += findStart(text_least, rng.choice(l_vowel)) + ' '\n",
    "    line += findStart(text_least, rng.choice(l_flow))\n",
    "    return line\n",
    "\n",
    "def strongLine():\n",
    "    line = ''\n",
    "    line += findStart(text_least, rng.choice(l_strong)) + ' '\n",
    "    line += findStart(text_least, rng.choice(l_vowel))\n",
    "    return line"
   ]
  },
  {
   "cell_type": "code",
   "execution_count": 49,
   "metadata": {},
   "outputs": [
    {
     "name": "stdout",
     "output_type": "stream",
     "text": [
      "It must’ve been a dog; it could’ve been\n",
      "fault armed free \n",
      "I want to lean\n",
      "think until \n",
      "which I have\n",
      "  themselves\n",
      "  teach\n",
      "Friends.\n",
      "\n",
      "\n",
      "& imagine your\n",
      "leave us like \n",
      "let me fry an egg\n",
      "programme into \n",
      "all your new\n",
      "  than\n",
      "  turn\n",
      "& I’ll pick up\n",
      "\n",
      "\n",
      "me the greatest\n",
      "satisfaction early future \n",
      "I want to read the words you circld over and over again\n",
      "prepared out \n",
      "wich in the\n",
      "  but\n",
      "  better\n",
      "all time\n",
      "\n",
      "\n",
      "Friends.\n",
      "facing opponents future \n",
      "me the greatest\n",
      "told under \n",
      "but the thoughts\n",
      "  better\n",
      "  beasts\n",
      "Keep letting the\n",
      "\n",
      "\n"
     ]
    }
   ],
   "source": [
    "creation = []\n",
    "\n",
    "for i in range(4):\n",
    "    line = ''\n",
    "    line += rng.choice(poem_2) +'\\n'\n",
    "    line += flowLine() +'\\n'\n",
    "    line += rng.choice(poem_2) +'\\n'\n",
    "    line += strongLine() +'\\n'\n",
    "    line += rng.choice(poem_1) +'\\n'\n",
    "    repetition = rng.choice(l_strong)\n",
    "    line += '  '+ findStart(text_least, repetition) +'\\n'\n",
    "    line += '  '+ findStart(text_least, repetition) +'\\n'\n",
    "    line += rng.choice(poem_2) +'\\n'\n",
    "    # print result (+ two blank lines)\n",
    "    creation.append(line)\n",
    "    print(line +'\\n')"
   ]
  },
  {
   "cell_type": "code",
   "execution_count": 50,
   "metadata": {
    "collapsed": true
   },
   "outputs": [],
   "source": [
    "filename = \"./creations/03_flow_03.txt\"\n",
    "file = open(filename, 'w')\n",
    "file.writelines('\\n'.join(creation))\n",
    "file.close()"
   ]
  },
  {
   "cell_type": "code",
   "execution_count": 51,
   "metadata": {
    "collapsed": true
   },
   "outputs": [],
   "source": [
    "poem_sent1 = nltk.sent_tokenize(open('./sources/eileen_peanutbutter.txt', 'r').read())\n",
    "poem_sent2 = nltk.sent_tokenize(open('./sources/eileen_eachdefeat.txt', 'r').read())"
   ]
  },
  {
   "cell_type": "code",
   "execution_count": 58,
   "metadata": {
    "scrolled": true
   },
   "outputs": [
    {
     "name": "stdout",
     "output_type": "stream",
     "text": [
      "one day was\n",
      "further earnest So whore in\n",
      "my death. Not\n",
      "prison opposition \n",
      "  There\n",
      "  Take\n",
      "people Ulster governments evidence disregard\n",
      "let me move\n",
      "\n",
      "\n",
      "like a playground\n",
      "far Ulster go Unlicensed\n",
      "ride.\n",
      "teach important my child\n",
      "  Commons\n",
      "  Chartists\n",
      "than And sacrifice other dared\n",
      "the mail.\n",
      "\n",
      "\n"
     ]
    }
   ],
   "source": [
    "creation = []\n",
    "\n",
    "for i in range(2):\n",
    "    line = ''\n",
    "    line += rng.choice(poem_1) +'\\n'\n",
    "    line += flowLine() + ' ' + rng.choice(poem_2) +'\\n'\n",
    "    line += rng.choice(poem_1) +'\\n'\n",
    "    line += strongLine() + ' ' + rng.choice(poem_2) +'\\n'\n",
    "    repetition = rng.choice(l_strong)\n",
    "    line += '  '+ findStart(text_least, repetition) +'\\n'\n",
    "    line += '  '+ findStart(text_least, repetition) +'\\n'\n",
    "    line += strongLine() + ' ' + flowLine() +'\\n'\n",
    "    line += rng.choice(poem_2) +'\\n'\n",
    "    # print result (+ two blank lines)\n",
    "    creation.append(line)\n",
    "    print(line +'\\n')"
   ]
  },
  {
   "cell_type": "code",
   "execution_count": 59,
   "metadata": {
    "collapsed": true
   },
   "outputs": [],
   "source": [
    "filename = \"./creations/03_flow_04.txt\"\n",
    "file = open(filename, 'w')\n",
    "file.writelines('\\n'.join(creation))\n",
    "file.close()"
   ]
  },
  {
   "cell_type": "code",
   "execution_count": null,
   "metadata": {
    "collapsed": true
   },
   "outputs": [],
   "source": []
  }
 ],
 "metadata": {
  "kernelspec": {
   "display_name": "Python 3",
   "language": "python",
   "name": "python3"
  },
  "language_info": {
   "codemirror_mode": {
    "name": "ipython",
    "version": 3
   },
   "file_extension": ".py",
   "mimetype": "text/x-python",
   "name": "python",
   "nbconvert_exporter": "python",
   "pygments_lexer": "ipython3",
   "version": "3.6.4"
  }
 },
 "nbformat": 4,
 "nbformat_minor": 2
}
