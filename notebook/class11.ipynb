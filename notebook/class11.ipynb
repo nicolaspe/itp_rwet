{
 "cells": [
  {
   "cell_type": "markdown",
   "metadata": {},
   "source": [
    "# RWET - Apr 13\n",
    "\n",
    "## Outline\n",
    "- scheduling\n",
    "- homework presentations\n",
    "- command line\n",
    "- python scripts\n",
    "- web apps"
   ]
  },
  {
   "cell_type": "markdown",
   "metadata": {},
   "source": [
    "Some useful tools for developing python apps:\n",
    "- [kivy](https://kivy.org/#home)\n",
    "- [pygame](https://www.pygame.org/news)"
   ]
  },
  {
   "cell_type": "markdown",
   "metadata": {},
   "source": [
    "## Command line\n",
    "\n",
    "A way to talk to your computer.\n",
    "\n",
    "Commands:\n",
    "- `open .` : opens the current directory (that's what the `.` stands for)\n",
    "- `pwd` : print working directory\n",
    "- `cd <target>` : change directory to the specified target\n",
    "- `ls` : list, shows all the files on the current directory\n",
    "- `mkdir <name>` : make directory, creates a new directory\n",
    "- `cp <filepath> <target>` : copies a file to a target\n",
    "- `rm <file>` : delete (remove) of a file, WITHOUT GOING TO THE TRASH!\n",
    "\n",
    "\n",
    "- `nc` : netcat, how to send http requests!\n",
    "        nc rwet.decontextualize.com 80\n",
    "        GET /schedule HTTP/1.1\n",
    "        Host: rwet.decontextualize.com"
   ]
  },
  {
   "cell_type": "code",
   "execution_count": null,
   "metadata": {},
   "outputs": [],
   "source": []
  }
 ],
 "metadata": {
  "kernelspec": {
   "display_name": "Python 3",
   "language": "python",
   "name": "python3"
  },
  "language_info": {
   "codemirror_mode": {
    "name": "ipython",
    "version": 3
   },
   "file_extension": ".py",
   "mimetype": "text/x-python",
   "name": "python",
   "nbconvert_exporter": "python",
   "pygments_lexer": "ipython3",
   "version": "3.6.4"
  }
 },
 "nbformat": 4,
 "nbformat_minor": 2
}
