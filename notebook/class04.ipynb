{
 "cells": [
  {
   "cell_type": "markdown",
   "metadata": {},
   "source": [
    "# RWET - Feb 16\n",
    "\n",
    "## Outline\n",
    "- reading discussion\n",
    "- lists\n",
    "- dictionaries"
   ]
  },
  {
   "cell_type": "markdown",
   "metadata": {},
   "source": [
    "## Lists\n",
    "\n",
    "A list is the JavasScript equivalent of an array. They are comma separated values inside brackets. The values themselves can be expressions that are evaluated and saved to the structure"
   ]
  },
  {
   "cell_type": "code",
   "execution_count": 1,
   "metadata": {},
   "outputs": [
    {
     "data": {
      "text/plain": [
       "[1, 2, 3, 4, 5, 8, 9]"
      ]
     },
     "execution_count": 1,
     "metadata": {},
     "output_type": "execute_result"
    }
   ],
   "source": [
    "[1,2,3,4,5,8,9]"
   ]
  },
  {
   "cell_type": "markdown",
   "metadata": {},
   "source": [
    "lists can be empty as well"
   ]
  },
  {
   "cell_type": "code",
   "execution_count": 2,
   "metadata": {},
   "outputs": [
    {
     "data": {
      "text/plain": [
       "[]"
      ]
     },
     "execution_count": 2,
     "metadata": {},
     "output_type": "execute_result"
    }
   ],
   "source": [
    "[]"
   ]
  },
  {
   "cell_type": "markdown",
   "metadata": {},
   "source": [
    "the type of a list is... list!"
   ]
  },
  {
   "cell_type": "code",
   "execution_count": 4,
   "metadata": {},
   "outputs": [
    {
     "data": {
      "text/plain": [
       "list"
      ]
     },
     "execution_count": 4,
     "metadata": {},
     "output_type": "execute_result"
    }
   ],
   "source": [
    "my_list = [4, 8, 15, 16, 23, 42]\n",
    "type(my_list)"
   ]
  },
  {
   "cell_type": "markdown",
   "metadata": {},
   "source": [
    "To access the values, use brackets to indicate the index. But throws an error is you go out of bounds"
   ]
  },
  {
   "cell_type": "code",
   "execution_count": 6,
   "metadata": {},
   "outputs": [
    {
     "name": "stdout",
     "output_type": "stream",
     "text": [
      "15\n"
     ]
    },
    {
     "ename": "IndexError",
     "evalue": "list index out of range",
     "output_type": "error",
     "traceback": [
      "\u001b[0;31m---------------------------------------------------------------------------\u001b[0m",
      "\u001b[0;31mIndexError\u001b[0m                                Traceback (most recent call last)",
      "\u001b[0;32m<ipython-input-6-426bcb436366>\u001b[0m in \u001b[0;36m<module>\u001b[0;34m()\u001b[0m\n\u001b[1;32m      1\u001b[0m \u001b[0mprint\u001b[0m\u001b[0;34m(\u001b[0m\u001b[0mmy_list\u001b[0m\u001b[0;34m[\u001b[0m\u001b[0;36m2\u001b[0m\u001b[0;34m]\u001b[0m\u001b[0;34m)\u001b[0m\u001b[0;34m\u001b[0m\u001b[0m\n\u001b[0;32m----> 2\u001b[0;31m \u001b[0mprint\u001b[0m\u001b[0;34m(\u001b[0m\u001b[0mmy_list\u001b[0m\u001b[0;34m[\u001b[0m\u001b[0;36m99\u001b[0m\u001b[0;34m]\u001b[0m\u001b[0;34m)\u001b[0m\u001b[0;34m\u001b[0m\u001b[0m\n\u001b[0m",
      "\u001b[0;31mIndexError\u001b[0m: list index out of range"
     ]
    }
   ],
   "source": [
    "print(my_list[2])\n",
    "print(my_list[99])"
   ]
  },
  {
   "cell_type": "markdown",
   "metadata": {},
   "source": [
    "To get the length of a list, use the `len()` function"
   ]
  },
  {
   "cell_type": "code",
   "execution_count": 9,
   "metadata": {},
   "outputs": [
    {
     "name": "stdout",
     "output_type": "stream",
     "text": [
      "6\n",
      "1\n",
      "0\n"
     ]
    }
   ],
   "source": [
    "print(len(my_list))\n",
    "print(len([\"hiii\"]))\n",
    "print(len([]))"
   ]
  },
  {
   "cell_type": "markdown",
   "metadata": {},
   "source": [
    "Use the `in` operator to know if something is in a list"
   ]
  },
  {
   "cell_type": "code",
   "execution_count": 12,
   "metadata": {},
   "outputs": [
    {
     "name": "stdout",
     "output_type": "stream",
     "text": [
      "True\n",
      "True\n",
      "False\n",
      "True\n"
     ]
    }
   ],
   "source": [
    "my_strings = [\"hello\", \"there\", 'apple']\n",
    "print(15 in my_list)\n",
    "print(\"hello\" in my_strings)\n",
    "print(\"her\" in my_strings)\n",
    "print(\"her\" in my_strings[1])"
   ]
  },
  {
   "cell_type": "markdown",
   "metadata": {},
   "source": [
    "We can sort the list to have them in order!"
   ]
  },
  {
   "cell_type": "code",
   "execution_count": 13,
   "metadata": {},
   "outputs": [
    {
     "name": "stdout",
     "output_type": "stream",
     "text": [
      "[-142, -7, 0, 3, 5, 6, 9, 12, 87]\n",
      "['algorithm', 'hi', 'of', 'orange', 'pie', 'slices']\n"
     ]
    }
   ],
   "source": [
    "print( sorted([6,12,-7,0,87,-142,5,9,3]) )\n",
    "print( sorted([\"hi\", \"algorithm\", \"slices\", \"of\", \"pie\", \"orange\"]) )"
   ]
  },
  {
   "cell_type": "markdown",
   "metadata": {},
   "source": [
    "As **strings are a list of characters**, you can use the same methods to extract values"
   ]
  },
  {
   "cell_type": "code",
   "execution_count": 14,
   "metadata": {},
   "outputs": [
    {
     "name": "stdout",
     "output_type": "stream",
     "text": [
      "[15, 16]\n",
      "[4, 8, 15]\n",
      "['there', 'apple']\n",
      "apple\n"
     ]
    }
   ],
   "source": [
    "print( my_list[2:4] )\n",
    "print( my_list[:3] )\n",
    "print( my_strings[-2:] )\n",
    "print( my_strings[-1] )"
   ]
  },
  {
   "cell_type": "markdown",
   "metadata": {},
   "source": [
    "You can make lists of lists!"
   ]
  },
  {
   "cell_type": "code",
   "execution_count": 15,
   "metadata": {
    "collapsed": true
   },
   "outputs": [],
   "source": [
    "dawg = [[1, 1, 2, 3], [4, 5, 6, 9], [3, 5, 8, 13]]"
   ]
  },
  {
   "cell_type": "code",
   "execution_count": 17,
   "metadata": {},
   "outputs": [
    {
     "name": "stdout",
     "output_type": "stream",
     "text": [
      "[[1, 1, 2, 3], [4, 5, 6, 9], [3, 5, 8, 13]]\n",
      "3\n",
      "[1, 1, 2, 3]\n",
      "4\n"
     ]
    }
   ],
   "source": [
    "print( dawg )\n",
    "print( len(dawg) )\n",
    "print( dawg[0] )\n",
    "print( len(dawg[0]) )"
   ]
  },
  {
   "cell_type": "markdown",
   "metadata": {},
   "source": [
    "Also, you can sum all the values of a list!"
   ]
  },
  {
   "cell_type": "code",
   "execution_count": 31,
   "metadata": {},
   "outputs": [
    {
     "data": {
      "text/plain": [
       "108"
      ]
     },
     "execution_count": 31,
     "metadata": {},
     "output_type": "execute_result"
    }
   ],
   "source": [
    "sum( my_list )"
   ]
  },
  {
   "cell_type": "markdown",
   "metadata": {},
   "source": [
    "### List comprehensions\n",
    "\n",
    "Go over each element and... do something to it, get information, filter, etc\n",
    "\n",
    "```python\n",
    "[expr for var in source if cond]\n",
    "```"
   ]
  },
  {
   "cell_type": "code",
   "execution_count": 19,
   "metadata": {},
   "outputs": [
    {
     "name": "stdout",
     "output_type": "stream",
     "text": [
      "[4, 8, 15, 16, 23, 42]\n",
      "[20, 40, 75, 80, 115, 210]\n"
     ]
    }
   ],
   "source": [
    "print( my_list )\n",
    "print( [num*5 for num in my_list] )"
   ]
  },
  {
   "cell_type": "code",
   "execution_count": 22,
   "metadata": {},
   "outputs": [
    {
     "data": {
      "text/plain": [
       "['😈', '😈', '😈', '😈', '😈', '😈', '😈', '😈', '😈', '😈', '😈', '😈', '😈', '😈', '😈']"
      ]
     },
     "execution_count": 22,
     "metadata": {},
     "output_type": "execute_result"
    }
   ],
   "source": [
    "[\"😈\" for x in range(15)]"
   ]
  },
  {
   "cell_type": "code",
   "execution_count": 24,
   "metadata": {},
   "outputs": [
    {
     "data": {
      "text/plain": [
       "[4, 8, 16, 42]"
      ]
     },
     "execution_count": 24,
     "metadata": {},
     "output_type": "execute_result"
    }
   ],
   "source": [
    "[x for x in my_list if x%2==0]"
   ]
  },
  {
   "cell_type": "code",
   "execution_count": 26,
   "metadata": {},
   "outputs": [
    {
     "data": {
      "text/plain": [
       "[[15, 225], [23, 529]]"
      ]
     },
     "execution_count": 26,
     "metadata": {},
     "output_type": "execute_result"
    }
   ],
   "source": [
    "[[ño,ño*ño] for ño in my_list if ño%2==1]"
   ]
  },
  {
   "cell_type": "markdown",
   "metadata": {},
   "source": [
    "### splitting strings\n",
    "\n",
    "Imagine we want \n",
    "```\n",
    "    \"this is a test\" -> [\"this\", \"is\", \"a\", \"test]\n",
    "```"
   ]
  },
  {
   "cell_type": "code",
   "execution_count": 27,
   "metadata": {},
   "outputs": [
    {
     "data": {
      "text/plain": [
       "['this', 'is', 'a', 'test']"
      ]
     },
     "execution_count": 27,
     "metadata": {},
     "output_type": "execute_result"
    }
   ],
   "source": [
    "\"this is a test\".split(\" \")"
   ]
  },
  {
   "cell_type": "markdown",
   "metadata": {},
   "source": [
    "Anything can the the *splitting* character, or string "
   ]
  },
  {
   "cell_type": "code",
   "execution_count": 30,
   "metadata": {},
   "outputs": [
    {
     "name": "stdout",
     "output_type": "stream",
     "text": [
      "['th', 's ', 's a test']\n",
      "['th', ' ', ' a test']\n"
     ]
    }
   ],
   "source": [
    "print( \"this is a test\".split(\"i\") ) \n",
    "print( \"this is a test\".split(\"is\") )"
   ]
  },
  {
   "cell_type": "markdown",
   "metadata": {},
   "source": [
    "It is extremely useful to parse data form a database"
   ]
  },
  {
   "cell_type": "markdown",
   "metadata": {},
   "source": [
    "### joining strings\n",
    "\n",
    "We also might want to join strings from a list"
   ]
  },
  {
   "cell_type": "code",
   "execution_count": 34,
   "metadata": {
    "collapsed": true
   },
   "outputs": [],
   "source": [
    "elements = [\"hydrogen\", \"helium\", \"lithium\", \"beryllium\", \"boron\"]\n",
    "glue = \", and \""
   ]
  },
  {
   "cell_type": "code",
   "execution_count": 35,
   "metadata": {},
   "outputs": [
    {
     "data": {
      "text/plain": [
       "'hydrogen, and helium, and lithium, and beryllium, and boron'"
      ]
     },
     "execution_count": 35,
     "metadata": {},
     "output_type": "execute_result"
    }
   ],
   "source": [
    "glue.join(elements)"
   ]
  },
  {
   "cell_type": "markdown",
   "metadata": {},
   "source": [
    "## Randomness in Python\n",
    "\n",
    "First, we need to import the random module!"
   ]
  },
  {
   "cell_type": "code",
   "execution_count": 36,
   "metadata": {
    "collapsed": true
   },
   "outputs": [],
   "source": [
    "import random"
   ]
  },
  {
   "cell_type": "code",
   "execution_count": 38,
   "metadata": {},
   "outputs": [
    {
     "name": "stdout",
     "output_type": "stream",
     "text": [
      "['boron', 'helium', 'beryllium', 'hydrogen', 'lithium']\n"
     ]
    }
   ],
   "source": [
    "random.shuffle(elements)\n",
    "print(elements)"
   ]
  },
  {
   "cell_type": "code",
   "execution_count": 53,
   "metadata": {},
   "outputs": [
    {
     "name": "stdout",
     "output_type": "stream",
     "text": [
      "it night and dark a was stormy\n"
     ]
    }
   ],
   "source": [
    "some_text = \"it was a dark and stormy night\"\n",
    "some_words = some_text.split(\" \")\n",
    "random.shuffle(some_words)\n",
    "print( \" \".join(some_words) )"
   ]
  },
  {
   "cell_type": "markdown",
   "metadata": {},
   "source": [
    "If you want a few random items (or a new shuffled list without modifying the underlying structure), you can use `random.sample()`"
   ]
  },
  {
   "cell_type": "code",
   "execution_count": 57,
   "metadata": {
    "scrolled": true
   },
   "outputs": [
    {
     "name": "stdout",
     "output_type": "stream",
     "text": [
      "['and', 'a', 'night']\n",
      "['it', 'stormy', 'dark', 'and', 'a', 'night', 'was']\n",
      "a night and stormy it was dark\n"
     ]
    }
   ],
   "source": [
    "print( random.sample(some_words, 3) )\n",
    "print( random.sample(some_words, len(some_words)) )\n",
    "print( \" \".join( random.sample(some_words, len(some_words)) ) )"
   ]
  },
  {
   "cell_type": "markdown",
   "metadata": {},
   "source": [
    "If you only want ONE element..."
   ]
  },
  {
   "cell_type": "code",
   "execution_count": 58,
   "metadata": {},
   "outputs": [
    {
     "data": {
      "text/plain": [
       "'stormy'"
      ]
     },
     "execution_count": 58,
     "metadata": {},
     "output_type": "execute_result"
    }
   ],
   "source": [
    "random.choice(some_words)"
   ]
  },
  {
   "cell_type": "markdown",
   "metadata": {},
   "source": [
    "## Text files and lines\n",
    "\n",
    "We can treat text as a list of lines!"
   ]
  },
  {
   "cell_type": "code",
   "execution_count": 72,
   "metadata": {},
   "outputs": [
    {
     "data": {
      "text/plain": [
       "['Rose, harsh rose, \\n',\n",
       " 'marred and with stint of petals, \\n',\n",
       " 'meagre flower, thin, \\n',\n",
       " 'spare of leaf,\\n',\n",
       " '\\n',\n",
       " 'more precious \\n',\n",
       " 'than a wet rose \\n',\n",
       " 'single on a stem -- \\n',\n",
       " 'you are caught in the drift.\\n',\n",
       " '\\n',\n",
       " 'Stunted, with small leaf, \\n',\n",
       " 'you are flung on the sand, \\n',\n",
       " 'you are lifted \\n',\n",
       " 'in the crisp sand \\n',\n",
       " 'that drives in the wind.\\n',\n",
       " '\\n',\n",
       " 'Can the spice-rose \\n',\n",
       " 'drip such acrid fragrance \\n',\n",
       " 'hardened in a leaf?\\n']"
      ]
     },
     "execution_count": 72,
     "metadata": {},
     "output_type": "execute_result"
    }
   ],
   "source": [
    "poem = [line for line in open(\"../rwet/sea_rose.txt\")]\n",
    "poem"
   ]
  },
  {
   "cell_type": "code",
   "execution_count": 73,
   "metadata": {
    "collapsed": true
   },
   "outputs": [],
   "source": [
    "poem = [line.strip() for line in open(\"../rwet/sea_rose.txt\")]"
   ]
  },
  {
   "cell_type": "code",
   "execution_count": 74,
   "metadata": {
    "scrolled": true
   },
   "outputs": [
    {
     "data": {
      "text/plain": [
       "['Rose, harsh rose,',\n",
       " 'marred and with stint of petals,',\n",
       " 'meagre flower, thin,',\n",
       " 'spare of leaf,',\n",
       " '',\n",
       " 'more precious',\n",
       " 'than a wet rose',\n",
       " 'single on a stem --',\n",
       " 'you are caught in the drift.',\n",
       " '',\n",
       " 'Stunted, with small leaf,',\n",
       " 'you are flung on the sand,',\n",
       " 'you are lifted',\n",
       " 'in the crisp sand',\n",
       " 'that drives in the wind.',\n",
       " '',\n",
       " 'Can the spice-rose',\n",
       " 'drip such acrid fragrance',\n",
       " 'hardened in a leaf?']"
      ]
     },
     "execution_count": 74,
     "metadata": {},
     "output_type": "execute_result"
    }
   ],
   "source": [
    "poem"
   ]
  },
  {
   "cell_type": "code",
   "execution_count": 75,
   "metadata": {},
   "outputs": [
    {
     "name": "stdout",
     "output_type": "stream",
     "text": [
      "19\n"
     ]
    }
   ],
   "source": [
    "print( len(poem) )"
   ]
  },
  {
   "cell_type": "code",
   "execution_count": 79,
   "metadata": {},
   "outputs": [
    {
     "data": {
      "text/plain": [
       "'more precious'"
      ]
     },
     "execution_count": 79,
     "metadata": {},
     "output_type": "execute_result"
    }
   ],
   "source": [
    "random.choice(poem)"
   ]
  },
  {
   "cell_type": "code",
   "execution_count": 80,
   "metadata": {},
   "outputs": [
    {
     "data": {
      "text/plain": [
       "['',\n",
       " 'than a wet rose',\n",
       " '',\n",
       " 'meagre flower, thin,',\n",
       " 'single on a stem --',\n",
       " 'in the crisp sand',\n",
       " 'you are caught in the drift.',\n",
       " 'Rose, harsh rose,',\n",
       " '',\n",
       " 'more precious',\n",
       " 'Can the spice-rose',\n",
       " 'you are flung on the sand,',\n",
       " 'marred and with stint of petals,',\n",
       " 'hardened in a leaf?',\n",
       " 'that drives in the wind.',\n",
       " 'you are lifted',\n",
       " 'spare of leaf,',\n",
       " 'drip such acrid fragrance',\n",
       " 'Stunted, with small leaf,']"
      ]
     },
     "execution_count": 80,
     "metadata": {},
     "output_type": "execute_result"
    }
   ],
   "source": [
    "random.sample(poem, len(poem))"
   ]
  },
  {
   "cell_type": "markdown",
   "metadata": {},
   "source": [
    "In we wanted to get rid of the empty lines... LIST COMPREHENSION! "
   ]
  },
  {
   "cell_type": "code",
   "execution_count": 81,
   "metadata": {},
   "outputs": [
    {
     "data": {
      "text/plain": [
       "['Rose, harsh rose,',\n",
       " 'marred and with stint of petals,',\n",
       " 'meagre flower, thin,',\n",
       " 'spare of leaf,',\n",
       " 'more precious',\n",
       " 'than a wet rose',\n",
       " 'single on a stem --',\n",
       " 'you are caught in the drift.',\n",
       " 'Stunted, with small leaf,',\n",
       " 'you are flung on the sand,',\n",
       " 'you are lifted',\n",
       " 'in the crisp sand',\n",
       " 'that drives in the wind.',\n",
       " 'Can the spice-rose',\n",
       " 'drip such acrid fragrance',\n",
       " 'hardened in a leaf?']"
      ]
     },
     "execution_count": 81,
     "metadata": {},
     "output_type": "execute_result"
    }
   ],
   "source": [
    "poem_clean = [line for line in poem if line != \"\"]\n",
    "poem_clean"
   ]
  },
  {
   "cell_type": "markdown",
   "metadata": {},
   "source": [
    "Aaaaand, we can do the same things we did to the strings we did earlier!"
   ]
  },
  {
   "cell_type": "code",
   "execution_count": 84,
   "metadata": {},
   "outputs": [
    {
     "data": {
      "text/plain": [
       "['ROSE, HaaaaaRSH ROSE,',\n",
       " 'MaaaaaRRED aaaaaND WITH STINT OF PETaaaaaLS,',\n",
       " 'MEaaaaaGRE FLOWER, THIN,',\n",
       " 'SPaaaaaRE OF LEaaaaaF,',\n",
       " '',\n",
       " 'MORE PRECIOUS',\n",
       " 'THaaaaaN aaaaa WET ROSE',\n",
       " 'SINGLE ON aaaaa STEM --',\n",
       " 'YOU aaaaaRE CaaaaaUGHT IN THE DRIFT.',\n",
       " '',\n",
       " 'STUNTED, WITH SMaaaaaLL LEaaaaaF,',\n",
       " 'YOU aaaaaRE FLUNG ON THE SaaaaaND,',\n",
       " 'YOU aaaaaRE LIFTED',\n",
       " 'IN THE CRISP SaaaaaND',\n",
       " 'THaaaaaT DRIVES IN THE WIND.',\n",
       " '',\n",
       " 'CaaaaaN THE SPICE-ROSE',\n",
       " 'DRIP SUCH aaaaaCRID FRaaaaaGRaaaaaNCE',\n",
       " 'HaaaaaRDENED IN aaaaa LEaaaaaF?']"
      ]
     },
     "execution_count": 84,
     "metadata": {},
     "output_type": "execute_result"
    }
   ],
   "source": [
    "# weird yelling\n",
    "[line.upper().replace('A', 'aaaaa') for line in poem]"
   ]
  },
  {
   "cell_type": "code",
   "execution_count": 85,
   "metadata": {},
   "outputs": [
    {
     "data": {
      "text/plain": [
       "['Rose,rose,',\n",
       " 'marretals,',\n",
       " 'meagrthin,',\n",
       " 'spareleaf,',\n",
       " '',\n",
       " 'more cious',\n",
       " 'than  rose',\n",
       " 'singlem --',\n",
       " 'you arift.',\n",
       " '',\n",
       " 'Stuntleaf,',\n",
       " 'you asand,',\n",
       " 'you aifted',\n",
       " 'in th sand',\n",
       " 'that wind.',\n",
       " '',\n",
       " 'Can t-rose',\n",
       " 'drip rance',\n",
       " 'hardeleaf?']"
      ]
     },
     "execution_count": 85,
     "metadata": {},
     "output_type": "execute_result"
    }
   ],
   "source": [
    "# smush the poem together\n",
    "[line[:5] + line[-5:] for line in poem]"
   ]
  },
  {
   "cell_type": "markdown",
   "metadata": {},
   "source": [
    "You can add lists by using the `+` operator"
   ]
  },
  {
   "cell_type": "code",
   "execution_count": 86,
   "metadata": {
    "collapsed": true
   },
   "outputs": [],
   "source": [
    "poem_b = [line.strip() for line in open(\"../rwet/frost.txt\")]"
   ]
  },
  {
   "cell_type": "code",
   "execution_count": 98,
   "metadata": {},
   "outputs": [
    {
     "data": {
      "text/plain": [
       "['Rose, harsh rose,',\n",
       " 'hardened in a leaf?',\n",
       " 'I doubted if I should ever come back.',\n",
       " 'Can the spice-rose',\n",
       " 'I shall be telling this with a sigh',\n",
       " 'you are flung on the sand,',\n",
       " '',\n",
       " 'Though as for that the passing there',\n",
       " 'And be one traveler, long I stood',\n",
       " 'more precious']"
      ]
     },
     "execution_count": 98,
     "metadata": {},
     "output_type": "execute_result"
    }
   ],
   "source": [
    "sample_1 = random.sample(poem, 5)\n",
    "sample_2 = random.sample(poem_b, 5)\n",
    "samples_joined = sample_1 + sample_2\n",
    "random.sample(samples_joined, len(samples_joined))"
   ]
  },
  {
   "cell_type": "markdown",
   "metadata": {},
   "source": [
    "To get a poem ordered by line and word..."
   ]
  },
  {
   "cell_type": "code",
   "execution_count": 100,
   "metadata": {},
   "outputs": [
    {
     "data": {
      "text/plain": [
       "[['Two', 'roads', 'diverged', 'in', 'a', 'yellow', 'wood,'],\n",
       " ['And', 'sorry', 'I', 'could', 'not', 'travel', 'both'],\n",
       " ['And', 'be', 'one', 'traveler,', 'long', 'I', 'stood'],\n",
       " ['And', 'looked', 'down', 'one', 'as', 'far', 'as', 'I', 'could'],\n",
       " ['To', 'where', 'it', 'bent', 'in', 'the', 'undergrowth;'],\n",
       " [],\n",
       " ['Then', 'took', 'the', 'other,', 'as', 'just', 'as', 'fair,'],\n",
       " ['And', 'having', 'perhaps', 'the', 'better', 'claim,'],\n",
       " ['Because', 'it', 'was', 'grassy', 'and', 'wanted', 'wear;'],\n",
       " ['Though', 'as', 'for', 'that', 'the', 'passing', 'there'],\n",
       " ['Had', 'worn', 'them', 'really', 'about', 'the', 'same,'],\n",
       " [],\n",
       " ['And', 'both', 'that', 'morning', 'equally', 'lay'],\n",
       " ['In', 'leaves', 'no', 'step', 'had', 'trodden', 'black.'],\n",
       " ['Oh,', 'I', 'kept', 'the', 'first', 'for', 'another', 'day!'],\n",
       " ['Yet', 'knowing', 'how', 'way', 'leads', 'on', 'to', 'way,'],\n",
       " ['I', 'doubted', 'if', 'I', 'should', 'ever', 'come', 'back.'],\n",
       " [],\n",
       " ['I', 'shall', 'be', 'telling', 'this', 'with', 'a', 'sigh'],\n",
       " ['Somewhere', 'ages', 'and', 'ages', 'hence:'],\n",
       " ['Two', 'roads', 'diverged', 'in', 'a', 'wood,', 'and', 'I—'],\n",
       " ['I', 'took', 'the', 'one', 'less', 'travelled', 'by,'],\n",
       " ['And', 'that', 'has', 'made', 'all', 'the', 'difference.']]"
      ]
     },
     "execution_count": 100,
     "metadata": {},
     "output_type": "execute_result"
    }
   ],
   "source": [
    "nice_poem = [line.strip().split() for line in open(\"../rwet/frost.txt\")]\n",
    "nice_poem"
   ]
  },
  {
   "cell_type": "code",
   "execution_count": null,
   "metadata": {
    "collapsed": true
   },
   "outputs": [],
   "source": []
  }
 ],
 "metadata": {
  "kernelspec": {
   "display_name": "Python 3",
   "language": "python",
   "name": "python3"
  },
  "language_info": {
   "codemirror_mode": {
    "name": "ipython",
    "version": 3
   },
   "file_extension": ".py",
   "mimetype": "text/x-python",
   "name": "python",
   "nbconvert_exporter": "python",
   "pygments_lexer": "ipython3",
   "version": "3.6.3"
  }
 },
 "nbformat": 4,
 "nbformat_minor": 2
}
